{
 "cells": [
  {
   "cell_type": "code",
   "execution_count": 1,
   "id": "262dccc5",
   "metadata": {},
   "outputs": [],
   "source": [
    "import pandas as pd\n",
    "import numpy as np\n",
    "import mysql.connector\n",
    "from datetime import datetime, timedelta\n",
    "import logging\n",
    "from sklearn.preprocessing import StandardScaler\n",
    "import pickle\n",
    "import warnings\n",
    "warnings.filterwarnings('ignore')\n"
   ]
  },
  {
   "cell_type": "code",
   "execution_count": 2,
   "id": "f5ed3727",
   "metadata": {},
   "outputs": [
    {
     "name": "stdout",
     "output_type": "stream",
     "text": [
      "✓ Imports loaded\n",
      "✓ Database config ready\n"
     ]
    }
   ],
   "source": [
    "db_config = {\n",
    "    'host': '127.0.0.1',\n",
    "    'user': 'root',\n",
    "    'password': '',\n",
    "    'database': 'trading_system'\n",
    "}\n",
    "\n",
    "print(\"✓ Imports loaded\")\n",
    "print(\"✓ Database config ready\")\n"
   ]
  },
  {
   "cell_type": "code",
   "execution_count": 3,
   "id": "2c3c7b19",
   "metadata": {},
   "outputs": [],
   "source": [
    "class EnhancedFeatureEngineering:\n",
    "    def __init__(self, db_config):\n",
    "        self.db_config = db_config\n",
    "        self.setup_logging()\n",
    "        \n",
    "    def setup_logging(self):\n",
    "        logging.basicConfig(\n",
    "            level=logging.INFO,\n",
    "            format='%(asctime)s - %(levelname)s - %(message)s',\n",
    "            handlers=[\n",
    "                logging.FileHandler('enhanced_feature_engineering.log'),\n",
    "                logging.StreamHandler()\n",
    "            ]\n",
    "        )\n",
    "        self.logger = logging.getLogger(__name__)\n",
    "    \n",
    "    def connect_db(self):\n",
    "        try:\n",
    "            conn = mysql.connector.connect(**self.db_config)\n",
    "            return conn\n",
    "        except mysql.connector.Error as e:\n",
    "            self.logger.error(f\"Database connection error: {e}\")\n",
    "            return None\n",
    "    \n",
    "    def load_price_data(self, symbol, start_date=None, end_date=None):\n",
    "        \"\"\"Load historical price data for a symbol\"\"\"\n",
    "        conn = self.connect_db()\n",
    "        if not conn:\n",
    "            return None\n",
    "        \n",
    "        query = \"\"\"\n",
    "        SELECT date, open_price, high_price, low_price, close_price, volume\n",
    "        FROM historical_prices\n",
    "        WHERE symbol = %s\n",
    "        \"\"\"\n",
    "        \n",
    "        params = [symbol]\n",
    "        \n",
    "        if start_date:\n",
    "            query += \" AND date >= %s\"\n",
    "            params.append(start_date)\n",
    "        if end_date:\n",
    "            query += \" AND date <= %s\"\n",
    "            params.append(end_date)\n",
    "        \n",
    "        query += \" ORDER BY date ASC\"\n",
    "        \n",
    "        df = pd.read_sql(query, conn, params=params)\n",
    "        conn.close()\n",
    "        \n",
    "        if df.empty:\n",
    "            self.logger.warning(f\"No price data found for {symbol}\")\n",
    "            return None\n",
    "        \n",
    "        df['date'] = pd.to_datetime(df['date'])\n",
    "        df.set_index('date', inplace=True)\n",
    "        \n",
    "        return df\n",
    "    \n",
    "    def load_sentiment_data(self, symbol):\n",
    "        \"\"\"Load sentiment data for a symbol\"\"\"\n",
    "        conn = self.connect_db()\n",
    "        if not conn:\n",
    "            return None\n",
    "        \n",
    "        query = \"\"\"\n",
    "        SELECT date, \n",
    "               reddit_avg_sentiment,\n",
    "               reddit_post_count,\n",
    "               news_avg_sentiment,\n",
    "               news_article_count,\n",
    "               combined_sentiment,\n",
    "               total_mentions\n",
    "        FROM daily_sentiment\n",
    "        WHERE symbol = %s\n",
    "        ORDER BY date ASC\n",
    "        \"\"\"\n",
    "        \n",
    "        df = pd.read_sql(query, conn, params=[symbol])\n",
    "        conn.close()\n",
    "        \n",
    "        if df.empty:\n",
    "            self.logger.warning(f\"No sentiment data found for {symbol}\")\n",
    "            return None\n",
    "        \n",
    "        df['date'] = pd.to_datetime(df['date'])\n",
    "        df.set_index('date', inplace=True)\n",
    "        \n",
    "        return df\n",
    "    \n",
    "    def merge_price_sentiment(self, price_df, sentiment_df, strategy='forward_fill'):\n",
    "        \"\"\"\n",
    "        Merge price and sentiment data with smart missing value handling\n",
    "        \n",
    "        Strategies:\n",
    "        - 'forward_fill': Use last known sentiment (assumes persistence) - RECOMMENDED\n",
    "        - 'drop_missing': Only keep dates with real sentiment (cleanest but smallest dataset)\n",
    "        - 'neutral_zero': Fill with 0 (old method, NOT RECOMMENDED)\n",
    "        - 'missing_indicator': Use -999 for missing (model learns to ignore it)\n",
    "        \"\"\"\n",
    "        if sentiment_df is None or sentiment_df.empty:\n",
    "            self.logger.warning(\"No sentiment data - creating neutral baseline\")\n",
    "            # Create neutral sentiment columns\n",
    "            price_df['reddit_avg_sentiment'] = 0.0\n",
    "            price_df['reddit_post_count'] = 0\n",
    "            price_df['news_avg_sentiment'] = 0.0\n",
    "            price_df['news_article_count'] = 0\n",
    "            price_df['combined_sentiment'] = 0.0\n",
    "            price_df['total_mentions'] = 0\n",
    "            price_df['has_sentiment'] = 0\n",
    "            return price_df\n",
    "        \n",
    "        # Merge on date\n",
    "        merged = price_df.merge(sentiment_df, left_index=True, right_index=True, how='left')\n",
    "        \n",
    "        sentiment_cols = ['reddit_avg_sentiment', 'news_avg_sentiment', 'combined_sentiment']\n",
    "        count_cols = ['reddit_post_count', 'news_article_count', 'total_mentions']\n",
    "        \n",
    "        # Apply selected strategy\n",
    "        if strategy == 'forward_fill':\n",
    "            # Forward fill sentiment (last known value persists)\n",
    "            for col in sentiment_cols:\n",
    "                merged[col] = merged[col].fillna(method='ffill').fillna(0.0)\n",
    "            for col in count_cols:\n",
    "                merged[col] = merged[col].fillna(0)\n",
    "                \n",
    "        elif strategy == 'drop_missing':\n",
    "            # Keep only days with real sentiment\n",
    "            merged = merged.dropna(subset=['combined_sentiment'])\n",
    "            self.logger.info(f\"Dropped rows without sentiment. Remaining: {len(merged)} days\")\n",
    "            \n",
    "        elif strategy == 'missing_indicator':\n",
    "            # Use -999 for missing sentiment\n",
    "            for col in sentiment_cols:\n",
    "                merged[col] = merged[col].fillna(-999.0)\n",
    "            for col in count_cols:\n",
    "                merged[col] = merged[col].fillna(0)\n",
    "                \n",
    "        else:  # 'neutral_zero' (old method)\n",
    "            for col in sentiment_cols:\n",
    "                merged[col] = merged[col].fillna(0.0)\n",
    "            for col in count_cols:\n",
    "                merged[col] = merged[col].fillna(0)\n",
    "        \n",
    "        # Flag for whether sentiment data exists\n",
    "        merged['has_sentiment'] = (merged['total_mentions'] > 0).astype(int)\n",
    "        \n",
    "        return merged\n",
    "    \n",
    "    def calculate_technical_indicators(self, df):\n",
    "        \"\"\"Calculate technical indicators from OHLCV data\"\"\"\n",
    "        if df is None or df.empty:\n",
    "            return None\n",
    "        \n",
    "        df = df.copy()\n",
    "        \n",
    "        # Moving Averages\n",
    "        df['MA_5'] = df['close_price'].rolling(window=5).mean()\n",
    "        df['MA_10'] = df['close_price'].rolling(window=10).mean()\n",
    "        df['MA_20'] = df['close_price'].rolling(window=20).mean()\n",
    "        df['MA_50'] = df['close_price'].rolling(window=50).mean()\n",
    "        \n",
    "        # Exponential Moving Averages\n",
    "        df['EMA_12'] = df['close_price'].ewm(span=12, adjust=False).mean()\n",
    "        df['EMA_26'] = df['close_price'].ewm(span=26, adjust=False).mean()\n",
    "        \n",
    "        # MACD\n",
    "        df['MACD'] = df['EMA_12'] - df['EMA_26']\n",
    "        df['MACD_signal'] = df['MACD'].ewm(span=9, adjust=False).mean()\n",
    "        df['MACD_diff'] = df['MACD'] - df['MACD_signal']\n",
    "        \n",
    "        # RSI (Relative Strength Index)\n",
    "        delta = df['close_price'].diff()\n",
    "        gain = (delta.where(delta > 0, 0)).rolling(window=14).mean()\n",
    "        loss = (-delta.where(delta < 0, 0)).rolling(window=14).mean()\n",
    "        rs = gain / loss\n",
    "        df['RSI'] = 100 - (100 / (1 + rs))\n",
    "        \n",
    "        # Bollinger Bands\n",
    "        df['BB_middle'] = df['close_price'].rolling(window=20).mean()\n",
    "        bb_std = df['close_price'].rolling(window=20).std()\n",
    "        df['BB_upper'] = df['BB_middle'] + (bb_std * 2)\n",
    "        df['BB_lower'] = df['BB_middle'] - (bb_std * 2)\n",
    "        df['BB_width'] = df['BB_upper'] - df['BB_lower']\n",
    "        df['BB_position'] = (df['close_price'] - df['BB_lower']) / (df['BB_upper'] - df['BB_lower'])\n",
    "        \n",
    "        # Price momentum\n",
    "        df['momentum_1'] = df['close_price'].pct_change(1)\n",
    "        df['momentum_5'] = df['close_price'].pct_change(5)\n",
    "        df['momentum_10'] = df['close_price'].pct_change(10)\n",
    "        df['momentum_20'] = df['close_price'].pct_change(20)\n",
    "        \n",
    "        # Volatility\n",
    "        df['volatility_5'] = df['close_price'].rolling(window=5).std()\n",
    "        df['volatility_20'] = df['close_price'].rolling(window=20).std()\n",
    "        df['volatility_ratio'] = df['volatility_5'] / df['volatility_20']\n",
    "        \n",
    "        # Volume indicators\n",
    "        df['volume_MA_5'] = df['volume'].rolling(window=5).mean()\n",
    "        df['volume_MA_20'] = df['volume'].rolling(window=20).mean()\n",
    "        df['volume_ratio'] = df['volume'] / df['volume_MA_20']\n",
    "        \n",
    "        # Price range\n",
    "        df['daily_range'] = df['high_price'] - df['low_price']\n",
    "        df['daily_return'] = df['close_price'].pct_change()\n",
    "        \n",
    "        # Average True Range (ATR)\n",
    "        high_low = df['high_price'] - df['low_price']\n",
    "        high_close = np.abs(df['high_price'] - df['close_price'].shift())\n",
    "        low_close = np.abs(df['low_price'] - df['close_price'].shift())\n",
    "        ranges = pd.concat([high_low, high_close, low_close], axis=1)\n",
    "        true_range = np.max(ranges, axis=1)\n",
    "        df['ATR'] = true_range.rolling(14).mean()\n",
    "        \n",
    "        # On-Balance Volume (OBV)\n",
    "        df['OBV'] = (np.sign(df['close_price'].diff()) * df['volume']).fillna(0).cumsum()\n",
    "        \n",
    "        # Time-based features\n",
    "        df['day_of_week'] = df.index.dayofweek  # 0=Monday, 4=Friday\n",
    "        df['month'] = df.index.month\n",
    "        df['quarter'] = df.index.quarter\n",
    "        df['day_of_month'] = df.index.day\n",
    "        \n",
    "        return df\n",
    "    \n",
    "    def calculate_sentiment_features(self, df):\n",
    "        \"\"\"Calculate additional sentiment-based features\"\"\"\n",
    "        if df is None or df.empty:\n",
    "            return None\n",
    "        \n",
    "        df = df.copy()\n",
    "        \n",
    "        # Sentiment momentum (change over time)\n",
    "        df['sentiment_momentum_3'] = df['combined_sentiment'].diff(3)\n",
    "        df['sentiment_momentum_7'] = df['combined_sentiment'].diff(7)\n",
    "        \n",
    "        # Sentiment moving averages\n",
    "        df['sentiment_MA_3'] = df['combined_sentiment'].rolling(window=3).mean()\n",
    "        df['sentiment_MA_7'] = df['combined_sentiment'].rolling(window=7).mean()\n",
    "        \n",
    "        # Mention volume trends\n",
    "        df['mentions_MA_3'] = df['total_mentions'].rolling(window=3).mean()\n",
    "        df['mentions_trend'] = df['total_mentions'] / (df['mentions_MA_3'] + 1)  # +1 to avoid div by 0\n",
    "        \n",
    "        # Sentiment-price correlation features\n",
    "        df['sentiment_price_alignment'] = np.sign(df['combined_sentiment']) * np.sign(df['daily_return'])\n",
    "        \n",
    "        # Reddit vs News sentiment divergence\n",
    "        df['sentiment_divergence'] = df['reddit_avg_sentiment'] - df['news_avg_sentiment']\n",
    "        \n",
    "        return df\n",
    "    \n",
    "    def create_supervised_dataset(self, df, lookback=60, forecast_horizon=1, predict_change=True):\n",
    "        \"\"\"\n",
    "        Create supervised learning dataset\n",
    "        predict_change: If True, predict price change %. If False, predict absolute price.\n",
    "        \"\"\"\n",
    "        if df is None or len(df) < lookback + forecast_horizon:\n",
    "            self.logger.warning(\"Insufficient data for supervised dataset creation\")\n",
    "            return None, None, None, None\n",
    "        \n",
    "        # Drop rows with NaN values from technical indicators\n",
    "        df = df.dropna()\n",
    "        \n",
    "        if len(df) < lookback + forecast_horizon:\n",
    "            self.logger.warning(\"Insufficient data after dropping NaN values\")\n",
    "            return None, None, None, None\n",
    "        \n",
    "        # Define feature columns\n",
    "        price_features = [\n",
    "            'open_price', 'high_price', 'low_price', 'close_price', 'volume',\n",
    "            'MA_5', 'MA_10', 'MA_20', 'MA_50',\n",
    "            'EMA_12', 'EMA_26', 'MACD', 'MACD_signal', 'MACD_diff',\n",
    "            'RSI', 'BB_middle', 'BB_upper', 'BB_lower', 'BB_width', 'BB_position',\n",
    "            'momentum_1', 'momentum_5', 'momentum_10', 'momentum_20',\n",
    "            'volatility_5', 'volatility_20', 'volatility_ratio',\n",
    "            'volume_MA_5', 'volume_MA_20', 'volume_ratio',\n",
    "            'daily_range', 'daily_return', 'ATR', 'OBV',\n",
    "            'day_of_week', 'month', 'quarter', 'day_of_month'\n",
    "        ]\n",
    "        \n",
    "        sentiment_features = [\n",
    "            'reddit_avg_sentiment', 'reddit_post_count',\n",
    "            'news_avg_sentiment', 'news_article_count',\n",
    "            'combined_sentiment', 'total_mentions', 'has_sentiment',\n",
    "            'sentiment_momentum_3', 'sentiment_momentum_7',\n",
    "            'sentiment_MA_3', 'sentiment_MA_7',\n",
    "            'mentions_MA_3', 'mentions_trend',\n",
    "            'sentiment_price_alignment', 'sentiment_divergence'\n",
    "        ]\n",
    "        \n",
    "        # Check which features exist in dataframe\n",
    "        available_features = [col for col in price_features + sentiment_features if col in df.columns]\n",
    "        \n",
    "        X_list = []\n",
    "        y_list = []\n",
    "        dates_list = []\n",
    "        current_prices = []\n",
    "        \n",
    "        for i in range(lookback, len(df) - forecast_horizon + 1):\n",
    "            # Features: past 'lookback' days\n",
    "            X_window = df[available_features].iloc[i-lookback:i].values\n",
    "            \n",
    "            # Flatten the window into a single feature vector\n",
    "            X_flat = X_window.flatten()\n",
    "            \n",
    "            # Current price (for calculating % change)\n",
    "            current_price = df['close_price'].iloc[i-1]\n",
    "            \n",
    "            # Target price\n",
    "            future_price = df['close_price'].iloc[i + forecast_horizon - 1]\n",
    "            \n",
    "            if predict_change:\n",
    "                # Target: percentage price change\n",
    "                y_target = ((future_price - current_price) / current_price) * 100\n",
    "            else:\n",
    "                # Target: absolute price\n",
    "                y_target = future_price\n",
    "            \n",
    "            X_list.append(X_flat)\n",
    "            y_list.append(y_target)\n",
    "            dates_list.append(df.index[i + forecast_horizon - 1])\n",
    "            current_prices.append(current_price)\n",
    "        \n",
    "        X = np.array(X_list)\n",
    "        y = np.array(y_list)\n",
    "        \n",
    "        return X, y, dates_list, current_prices\n",
    "    \n",
    "    def prepare_training_data(self, symbol, lookback=60, test_size=0.2, \n",
    "                            predict_change=True, sentiment_strategy='forward_fill'):\n",
    "        \"\"\"\n",
    "        Complete pipeline with sentiment integration\n",
    "        \n",
    "        sentiment_strategy options:\n",
    "        - 'forward_fill': Last known sentiment persists (DEFAULT - RECOMMENDED)\n",
    "        - 'drop_missing': Only use days with real sentiment (cleanest but tiny dataset)\n",
    "        - 'missing_indicator': Use -999 for missing\n",
    "        - 'neutral_zero': Old method (not recommended)\n",
    "        \"\"\"\n",
    "        self.logger.info(f\"Preparing enhanced training data for {symbol}\")\n",
    "        \n",
    "        # Load price data\n",
    "        price_df = self.load_price_data(symbol)\n",
    "        \n",
    "        if price_df is None or price_df.empty:\n",
    "            self.logger.error(f\"No price data available for {symbol}\")\n",
    "            return None\n",
    "        \n",
    "        # Load sentiment data\n",
    "        sentiment_df = self.load_sentiment_data(symbol)\n",
    "        \n",
    "        # Merge price and sentiment\n",
    "        df = self.merge_price_sentiment(price_df, sentiment_df, strategy=sentiment_strategy)\n",
    "        \n",
    "        # Calculate technical indicators\n",
    "        df = self.calculate_technical_indicators(df)\n",
    "        \n",
    "        # Calculate sentiment features\n",
    "        df = self.calculate_sentiment_features(df)\n",
    "        \n",
    "        # Create supervised dataset\n",
    "        result = self.create_supervised_dataset(df, lookback=lookback, \n",
    "                                                predict_change=predict_change)\n",
    "        \n",
    "        if result[0] is None:\n",
    "            self.logger.error(f\"Failed to create supervised dataset for {symbol}\")\n",
    "            return None\n",
    "        \n",
    "        X, y, dates, current_prices = result\n",
    "        \n",
    "        # Train-test split (time-based)\n",
    "        split_idx = int(len(X) * (1 - test_size))\n",
    "        \n",
    "        X_train = X[:split_idx]\n",
    "        X_test = X[split_idx:]\n",
    "        y_train = y[:split_idx]\n",
    "        y_test = y[split_idx:]\n",
    "        test_dates = dates[split_idx:]\n",
    "        test_current_prices = current_prices[split_idx:]\n",
    "        \n",
    "        # Scale features (fit only on training data)\n",
    "        scaler = StandardScaler()\n",
    "        X_train_scaled = scaler.fit_transform(X_train)\n",
    "        X_test_scaled = scaler.transform(X_test)\n",
    "        \n",
    "        sentiment_available = sentiment_df is not None and not sentiment_df.empty\n",
    "        \n",
    "        self.logger.info(f\"{symbol}: Training={len(X_train)}, Test={len(X_test)}, \"\n",
    "                        f\"Sentiment={'Yes' if sentiment_available else 'No (using neutral)'}\")\n",
    "        \n",
    "        return {\n",
    "            'symbol': symbol,\n",
    "            'X_train': X_train_scaled,\n",
    "            'X_test': X_test_scaled,\n",
    "            'y_train': y_train,\n",
    "            'y_test': y_test,\n",
    "            'scaler': scaler,\n",
    "            'test_dates': test_dates,\n",
    "            'test_current_prices': test_current_prices,\n",
    "            'feature_count': X_train.shape[1],\n",
    "            'predict_change': predict_change,\n",
    "            'has_sentiment': sentiment_available,\n",
    "            'sentiment_strategy': sentiment_strategy\n",
    "        }\n",
    "    \n",
    "    def get_all_symbols(self):\n",
    "        \"\"\"Get all active stock symbols from database (top 20 only)\"\"\"\n",
    "        conn = self.connect_db()\n",
    "        if not conn:\n",
    "            return []\n",
    "        \n",
    "        cursor = conn.cursor()\n",
    "        cursor.execute(\"SELECT symbol FROM stocks WHERE is_active = 1 ORDER BY symbol\")\n",
    "        symbols = [row[0] for row in cursor.fetchall()]\n",
    "        cursor.close()\n",
    "        conn.close()\n",
    "        \n",
    "        return symbols\n",
    "\n",
    "\n"
   ]
  },
  {
   "cell_type": "code",
   "execution_count": 4,
   "id": "02f1edf7",
   "metadata": {},
   "outputs": [
    {
     "name": "stdout",
     "output_type": "stream",
     "text": [
      "✓ Enhanced Feature Engineering initialized\n",
      "✓ Sentiment strategy options:\n",
      "  - forward_fill (RECOMMENDED): Last sentiment persists\n",
      "  - drop_missing: Only days with real sentiment\n",
      "  - missing_indicator: Use -999 for missing\n",
      "  - neutral_zero: Old method (fills with 0)\n"
     ]
    }
   ],
   "source": [
    "efe = EnhancedFeatureEngineering(db_config)\n",
    "print(\"✓ Enhanced Feature Engineering initialized\")\n",
    "print(\"✓ Sentiment strategy options:\")\n",
    "print(\"  - forward_fill (RECOMMENDED): Last sentiment persists\")\n",
    "print(\"  - drop_missing: Only days with real sentiment\")\n",
    "print(\"  - missing_indicator: Use -999 for missing\")\n",
    "print(\"  - neutral_zero: Old method (fills with 0)\")\n"
   ]
  },
  {
   "cell_type": "code",
   "execution_count": 5,
   "id": "54491977",
   "metadata": {},
   "outputs": [
    {
     "name": "stderr",
     "output_type": "stream",
     "text": [
      "2025-10-20 20:46:36,634 - INFO - Preparing enhanced training data for AAPL\n",
      "2025-10-20 20:46:36,722 - INFO - package: mysql.connector.plugins\n",
      "2025-10-20 20:46:36,722 - INFO - plugin_name: caching_sha2_password\n",
      "2025-10-20 20:46:36,722 - INFO - AUTHENTICATION_PLUGIN_CLASS: MySQLCachingSHA2PasswordAuthPlugin\n"
     ]
    },
    {
     "name": "stdout",
     "output_type": "stream",
     "text": [
      "\n",
      "Testing enhanced feature engineering on AAPL...\n",
      "============================================================\n"
     ]
    },
    {
     "name": "stderr",
     "output_type": "stream",
     "text": [
      "2025-10-20 20:46:37,319 - INFO - AAPL: Training=322, Test=81, Sentiment=Yes\n"
     ]
    },
    {
     "name": "stdout",
     "output_type": "stream",
     "text": [
      "\n",
      "Symbol: AAPL\n",
      "Training samples: 322\n",
      "Test samples: 81\n",
      "Features per sample: 3180\n",
      "Sentiment data available: Yes\n",
      "Sentiment strategy: forward_fill\n",
      "Target variable: Price Change %\n",
      "Target range: -9.25% to 15.33%\n",
      "Test date range: 2025-06-25 00:00:00 to 2025-10-17 00:00:00\n",
      "\n",
      "✓ Enhanced feature engineering working correctly!\n"
     ]
    }
   ],
   "source": [
    "print(\"\\nTesting enhanced feature engineering on AAPL...\")\n",
    "print(\"=\"*60)\n",
    "\n",
    "# Test with forward_fill strategy (RECOMMENDED)\n",
    "test_data = efe.prepare_training_data(\n",
    "    'AAPL', \n",
    "    lookback=60, \n",
    "    test_size=0.2, \n",
    "    predict_change=True,\n",
    "    sentiment_strategy='forward_fill'\n",
    ")\n",
    "\n",
    "if test_data:\n",
    "    print(f\"\\nSymbol: {test_data['symbol']}\")\n",
    "    print(f\"Training samples: {len(test_data['X_train'])}\")\n",
    "    print(f\"Test samples: {len(test_data['X_test'])}\")\n",
    "    print(f\"Features per sample: {test_data['feature_count']}\")\n",
    "    print(f\"Sentiment data available: {'Yes' if test_data['has_sentiment'] else 'No'}\")\n",
    "    print(f\"Sentiment strategy: {test_data['sentiment_strategy']}\")\n",
    "    print(f\"Target variable: {'Price Change %' if test_data['predict_change'] else 'Absolute Price'}\")\n",
    "    print(f\"Target range: {test_data['y_train'].min():.2f}% to {test_data['y_train'].max():.2f}%\")\n",
    "    print(f\"Test date range: {test_data['test_dates'][0]} to {test_data['test_dates'][-1]}\")\n",
    "    print(\"\\n✓ Enhanced feature engineering working correctly!\")\n",
    "else:\n",
    "    print(\"✗ Feature engineering failed\")\n"
   ]
  },
  {
   "cell_type": "code",
   "execution_count": 6,
   "id": "1b547eef",
   "metadata": {},
   "outputs": [
    {
     "name": "stderr",
     "output_type": "stream",
     "text": [
      "2025-10-20 20:46:42,089 - INFO - Preparing enhanced training data for AAPL\n"
     ]
    },
    {
     "name": "stdout",
     "output_type": "stream",
     "text": [
      "\n",
      "============================================================\n",
      "COMPARING SENTIMENT STRATEGIES ON AAPL\n",
      "============================================================\n",
      "\n",
      "Testing strategy: forward_fill...\n"
     ]
    },
    {
     "name": "stderr",
     "output_type": "stream",
     "text": [
      "2025-10-20 20:46:42,512 - INFO - AAPL: Training=322, Test=81, Sentiment=Yes\n",
      "2025-10-20 20:46:42,516 - INFO - Preparing enhanced training data for AAPL\n",
      "2025-10-20 20:46:42,645 - INFO - Dropped rows without sentiment. Remaining: 2 days\n",
      "2025-10-20 20:46:42,672 - WARNING - Insufficient data for supervised dataset creation\n",
      "2025-10-20 20:46:42,677 - ERROR - Failed to create supervised dataset for AAPL\n",
      "2025-10-20 20:46:42,677 - INFO - Preparing enhanced training data for AAPL\n"
     ]
    },
    {
     "name": "stdout",
     "output_type": "stream",
     "text": [
      "  Train: 322, Test: 81\n",
      "\n",
      "Testing strategy: drop_missing...\n",
      "\n",
      "Testing strategy: missing_indicator...\n"
     ]
    },
    {
     "name": "stderr",
     "output_type": "stream",
     "text": [
      "2025-10-20 20:46:43,228 - INFO - AAPL: Training=322, Test=81, Sentiment=Yes\n",
      "2025-10-20 20:46:43,230 - INFO - Preparing enhanced training data for AAPL\n"
     ]
    },
    {
     "name": "stdout",
     "output_type": "stream",
     "text": [
      "  Train: 322, Test: 81\n",
      "\n",
      "Testing strategy: neutral_zero...\n"
     ]
    },
    {
     "name": "stderr",
     "output_type": "stream",
     "text": [
      "2025-10-20 20:46:43,792 - INFO - AAPL: Training=322, Test=81, Sentiment=Yes\n"
     ]
    },
    {
     "name": "stdout",
     "output_type": "stream",
     "text": [
      "  Train: 322, Test: 81\n",
      "\n",
      "============================================================\n",
      "STRATEGY COMPARISON SUMMARY\n",
      "============================================================\n",
      "forward_fill         | Train:  322 | Test:  81\n",
      "missing_indicator    | Train:  322 | Test:  81\n",
      "neutral_zero         | Train:  322 | Test:  81\n"
     ]
    }
   ],
   "source": [
    "print(\"\\n\" + \"=\"*60)\n",
    "print(\"COMPARING SENTIMENT STRATEGIES ON AAPL\")\n",
    "print(\"=\"*60)\n",
    "\n",
    "strategies = ['forward_fill', 'drop_missing', 'missing_indicator', 'neutral_zero']\n",
    "strategy_results = {}\n",
    "\n",
    "for strategy in strategies:\n",
    "    print(f\"\\nTesting strategy: {strategy}...\")\n",
    "    try:\n",
    "        data = efe.prepare_training_data(\n",
    "            'AAPL',\n",
    "            lookback=60,\n",
    "            test_size=0.2,\n",
    "            predict_change=True,\n",
    "            sentiment_strategy=strategy\n",
    "        )\n",
    "        if data:\n",
    "            strategy_results[strategy] = {\n",
    "                'train_samples': len(data['X_train']),\n",
    "                'test_samples': len(data['X_test']),\n",
    "                'features': data['feature_count']\n",
    "            }\n",
    "            print(f\"  Train: {len(data['X_train'])}, Test: {len(data['X_test'])}\")\n",
    "    except Exception as e:\n",
    "        print(f\"  ✗ Failed: {e}\")\n",
    "\n",
    "print(\"\\n\" + \"=\"*60)\n",
    "print(\"STRATEGY COMPARISON SUMMARY\")\n",
    "print(\"=\"*60)\n",
    "for strategy, results in strategy_results.items():\n",
    "    print(f\"{strategy:20s} | Train: {results['train_samples']:4d} | Test: {results['test_samples']:3d}\")\n"
   ]
  },
  {
   "cell_type": "code",
   "execution_count": 7,
   "id": "904fcb09",
   "metadata": {},
   "outputs": [
    {
     "name": "stderr",
     "output_type": "stream",
     "text": [
      "2025-10-20 20:46:49,336 - INFO - Preparing enhanced training data for AAPL\n"
     ]
    },
    {
     "name": "stdout",
     "output_type": "stream",
     "text": [
      "\n",
      "============================================================\n",
      "Preparing enhanced training data for all TOP 20 stocks...\n",
      "(Price + Sentiment + Time Features + % Change Target)\n",
      "This will take 3-4 minutes...\n",
      "============================================================\n",
      "\n",
      "Found 20 active stocks to process\n",
      "Stocks: ['AAPL', 'AMZN', 'BLK', 'ERO', 'FXP', 'GOOGL', 'GXC', 'JPM', 'KR', 'MDT', 'META', 'MSFT', 'NVDA', 'OXY', 'PGJ', 'RSP', 'SPY', 'TSLA', 'VGK', 'XPP']\n",
      "\n",
      "[1/20] Processing AAPL..."
     ]
    },
    {
     "name": "stderr",
     "output_type": "stream",
     "text": [
      "2025-10-20 20:46:49,705 - INFO - AAPL: Training=322, Test=81, Sentiment=Yes\n",
      "2025-10-20 20:46:49,707 - INFO - Preparing enhanced training data for AMZN\n"
     ]
    },
    {
     "name": "stdout",
     "output_type": "stream",
     "text": [
      " ✓ 322 samples [+SENTIMENT]\n",
      "[2/20] Processing AMZN..."
     ]
    },
    {
     "name": "stderr",
     "output_type": "stream",
     "text": [
      "2025-10-20 20:46:50,097 - INFO - AMZN: Training=322, Test=81, Sentiment=Yes\n",
      "2025-10-20 20:46:50,097 - INFO - Preparing enhanced training data for BLK\n"
     ]
    },
    {
     "name": "stdout",
     "output_type": "stream",
     "text": [
      " ✓ 322 samples [+SENTIMENT]\n",
      "[3/20] Processing BLK..."
     ]
    },
    {
     "name": "stderr",
     "output_type": "stream",
     "text": [
      "2025-10-20 20:46:50,485 - INFO - BLK: Training=322, Test=81, Sentiment=Yes\n",
      "2025-10-20 20:46:50,486 - INFO - Preparing enhanced training data for ERO\n"
     ]
    },
    {
     "name": "stdout",
     "output_type": "stream",
     "text": [
      " ✓ 322 samples [+SENTIMENT]\n",
      "[4/20] Processing ERO..."
     ]
    },
    {
     "name": "stderr",
     "output_type": "stream",
     "text": [
      "2025-10-20 20:46:50,875 - INFO - ERO: Training=322, Test=81, Sentiment=Yes\n",
      "2025-10-20 20:46:50,880 - INFO - Preparing enhanced training data for FXP\n"
     ]
    },
    {
     "name": "stdout",
     "output_type": "stream",
     "text": [
      " ✓ 322 samples [+SENTIMENT]\n",
      "[5/20] Processing FXP..."
     ]
    },
    {
     "name": "stderr",
     "output_type": "stream",
     "text": [
      "2025-10-20 20:46:51,284 - INFO - FXP: Training=322, Test=81, Sentiment=Yes\n",
      "2025-10-20 20:46:51,286 - INFO - Preparing enhanced training data for GOOGL\n"
     ]
    },
    {
     "name": "stdout",
     "output_type": "stream",
     "text": [
      " ✓ 322 samples [+SENTIMENT]\n",
      "[6/20] Processing GOOGL..."
     ]
    },
    {
     "name": "stderr",
     "output_type": "stream",
     "text": [
      "2025-10-20 20:46:51,804 - INFO - GOOGL: Training=322, Test=81, Sentiment=Yes\n",
      "2025-10-20 20:46:51,812 - INFO - Preparing enhanced training data for GXC\n"
     ]
    },
    {
     "name": "stdout",
     "output_type": "stream",
     "text": [
      " ✓ 322 samples [+SENTIMENT]\n",
      "[7/20] Processing GXC..."
     ]
    },
    {
     "name": "stderr",
     "output_type": "stream",
     "text": [
      "2025-10-20 20:46:52,332 - INFO - GXC: Training=322, Test=81, Sentiment=Yes\n",
      "2025-10-20 20:46:52,332 - INFO - Preparing enhanced training data for JPM\n"
     ]
    },
    {
     "name": "stdout",
     "output_type": "stream",
     "text": [
      " ✓ 322 samples [+SENTIMENT]\n",
      "[8/20] Processing JPM..."
     ]
    },
    {
     "name": "stderr",
     "output_type": "stream",
     "text": [
      "2025-10-20 20:46:52,812 - INFO - JPM: Training=322, Test=81, Sentiment=Yes\n",
      "2025-10-20 20:46:52,812 - INFO - Preparing enhanced training data for KR\n"
     ]
    },
    {
     "name": "stdout",
     "output_type": "stream",
     "text": [
      " ✓ 322 samples [+SENTIMENT]\n",
      "[9/20] Processing KR..."
     ]
    },
    {
     "name": "stderr",
     "output_type": "stream",
     "text": [
      "2025-10-20 20:46:53,222 - INFO - KR: Training=322, Test=81, Sentiment=Yes\n",
      "2025-10-20 20:46:53,222 - INFO - Preparing enhanced training data for MDT\n"
     ]
    },
    {
     "name": "stdout",
     "output_type": "stream",
     "text": [
      " ✓ 322 samples [+SENTIMENT]\n",
      "[10/20] Processing MDT..."
     ]
    },
    {
     "name": "stderr",
     "output_type": "stream",
     "text": [
      "2025-10-20 20:46:53,677 - INFO - MDT: Training=322, Test=81, Sentiment=Yes\n",
      "2025-10-20 20:46:53,682 - INFO - Preparing enhanced training data for META\n"
     ]
    },
    {
     "name": "stdout",
     "output_type": "stream",
     "text": [
      " ✓ 322 samples [+SENTIMENT]\n",
      "[11/20] Processing META..."
     ]
    },
    {
     "name": "stderr",
     "output_type": "stream",
     "text": [
      "2025-10-20 20:46:54,122 - INFO - META: Training=322, Test=81, Sentiment=Yes\n",
      "2025-10-20 20:46:54,122 - INFO - Preparing enhanced training data for MSFT\n"
     ]
    },
    {
     "name": "stdout",
     "output_type": "stream",
     "text": [
      " ✓ 322 samples [+SENTIMENT]\n",
      "[12/20] Processing MSFT..."
     ]
    },
    {
     "name": "stderr",
     "output_type": "stream",
     "text": [
      "2025-10-20 20:46:54,542 - INFO - MSFT: Training=322, Test=81, Sentiment=Yes\n",
      "2025-10-20 20:46:54,542 - INFO - Preparing enhanced training data for NVDA\n"
     ]
    },
    {
     "name": "stdout",
     "output_type": "stream",
     "text": [
      " ✓ 322 samples [+SENTIMENT]\n",
      "[13/20] Processing NVDA..."
     ]
    },
    {
     "name": "stderr",
     "output_type": "stream",
     "text": [
      "2025-10-20 20:46:55,019 - INFO - NVDA: Training=322, Test=81, Sentiment=Yes\n",
      "2025-10-20 20:46:55,022 - INFO - Preparing enhanced training data for OXY\n"
     ]
    },
    {
     "name": "stdout",
     "output_type": "stream",
     "text": [
      " ✓ 322 samples [+SENTIMENT]\n",
      "[14/20] Processing OXY..."
     ]
    },
    {
     "name": "stderr",
     "output_type": "stream",
     "text": [
      "2025-10-20 20:46:55,442 - INFO - OXY: Training=322, Test=81, Sentiment=Yes\n",
      "2025-10-20 20:46:55,442 - INFO - Preparing enhanced training data for PGJ\n"
     ]
    },
    {
     "name": "stdout",
     "output_type": "stream",
     "text": [
      " ✓ 322 samples [+SENTIMENT]\n",
      "[15/20] Processing PGJ..."
     ]
    },
    {
     "name": "stderr",
     "output_type": "stream",
     "text": [
      "2025-10-20 20:46:55,888 - INFO - PGJ: Training=322, Test=81, Sentiment=Yes\n",
      "2025-10-20 20:46:55,889 - INFO - Preparing enhanced training data for RSP\n"
     ]
    },
    {
     "name": "stdout",
     "output_type": "stream",
     "text": [
      " ✓ 322 samples [+SENTIMENT]\n",
      "[16/20] Processing RSP..."
     ]
    },
    {
     "name": "stderr",
     "output_type": "stream",
     "text": [
      "2025-10-20 20:46:56,365 - INFO - RSP: Training=322, Test=81, Sentiment=Yes\n",
      "2025-10-20 20:46:56,365 - INFO - Preparing enhanced training data for SPY\n"
     ]
    },
    {
     "name": "stdout",
     "output_type": "stream",
     "text": [
      " ✓ 322 samples [+SENTIMENT]\n",
      "[17/20] Processing SPY..."
     ]
    },
    {
     "name": "stderr",
     "output_type": "stream",
     "text": [
      "2025-10-20 20:46:56,838 - INFO - SPY: Training=322, Test=81, Sentiment=Yes\n",
      "2025-10-20 20:46:56,841 - INFO - Preparing enhanced training data for TSLA\n"
     ]
    },
    {
     "name": "stdout",
     "output_type": "stream",
     "text": [
      " ✓ 322 samples [+SENTIMENT]\n",
      "[18/20] Processing TSLA..."
     ]
    },
    {
     "name": "stderr",
     "output_type": "stream",
     "text": [
      "2025-10-20 20:46:57,512 - INFO - TSLA: Training=322, Test=81, Sentiment=Yes\n",
      "2025-10-20 20:46:57,519 - INFO - Preparing enhanced training data for VGK\n"
     ]
    },
    {
     "name": "stdout",
     "output_type": "stream",
     "text": [
      " ✓ 322 samples [+SENTIMENT]\n",
      "[19/20] Processing VGK..."
     ]
    },
    {
     "name": "stderr",
     "output_type": "stream",
     "text": [
      "2025-10-20 20:46:58,136 - INFO - VGK: Training=322, Test=81, Sentiment=Yes\n",
      "2025-10-20 20:46:58,140 - INFO - Preparing enhanced training data for XPP\n"
     ]
    },
    {
     "name": "stdout",
     "output_type": "stream",
     "text": [
      " ✓ 322 samples [+SENTIMENT]\n",
      "[20/20] Processing XPP..."
     ]
    },
    {
     "name": "stderr",
     "output_type": "stream",
     "text": [
      "2025-10-20 20:46:58,564 - INFO - XPP: Training=322, Test=81, Sentiment=Yes\n"
     ]
    },
    {
     "name": "stdout",
     "output_type": "stream",
     "text": [
      " ✓ 322 samples [+SENTIMENT]\n",
      "\n",
      "============================================================\n",
      "SUMMARY:\n",
      "Successfully processed: 20 stocks\n",
      "  - With sentiment data: 20 stocks\n",
      "  - Without sentiment (neutral): 0 stocks\n",
      "Failed: 0 stocks\n"
     ]
    }
   ],
   "source": [
    "print(\"\\n\" + \"=\"*60)\n",
    "print(\"Preparing enhanced training data for all TOP 20 stocks...\")\n",
    "print(\"(Price + Sentiment + Time Features + % Change Target)\")\n",
    "print(\"This will take 3-4 minutes...\")\n",
    "print(\"=\"*60 + \"\\n\")\n",
    "\n",
    "# Get active stocks only (top 20)\n",
    "symbols = efe.get_all_symbols()\n",
    "print(f\"Found {len(symbols)} active stocks to process\")\n",
    "print(f\"Stocks: {symbols}\\n\")\n",
    "\n",
    "enhanced_stock_data = {}\n",
    "failed_stocks = []\n",
    "sentiment_counts = {'with_sentiment': 0, 'without_sentiment': 0}\n",
    "\n",
    "for idx, symbol in enumerate(symbols, 1):\n",
    "    print(f\"[{idx}/{len(symbols)}] Processing {symbol}...\", end='')\n",
    "    \n",
    "    try:\n",
    "        data = efe.prepare_training_data(\n",
    "            symbol, \n",
    "            lookback=60, \n",
    "            test_size=0.2, \n",
    "            predict_change=True,\n",
    "            sentiment_strategy='forward_fill'  # RECOMMENDED STRATEGY\n",
    "        )\n",
    "        \n",
    "        if data and len(data['X_train']) > 0:\n",
    "            enhanced_stock_data[symbol] = data\n",
    "            if data['has_sentiment']:\n",
    "                sentiment_counts['with_sentiment'] += 1\n",
    "                print(f\" ✓ {len(data['X_train'])} samples [+SENTIMENT]\")\n",
    "            else:\n",
    "                sentiment_counts['without_sentiment'] += 1\n",
    "                print(f\" ✓ {len(data['X_train'])} samples [neutral sentiment]\")\n",
    "        else:\n",
    "            failed_stocks.append(symbol)\n",
    "            print(f\" ✗ Failed\")\n",
    "    except Exception as e:\n",
    "        failed_stocks.append(symbol)\n",
    "        print(f\" ✗ Error: {str(e)[:50]}\")\n",
    "\n",
    "print(\"\\n\" + \"=\"*60)\n",
    "print(\"SUMMARY:\")\n",
    "print(f\"Successfully processed: {len(enhanced_stock_data)} stocks\")\n",
    "print(f\"  - With sentiment data: {sentiment_counts['with_sentiment']} stocks\")\n",
    "print(f\"  - Without sentiment (neutral): {sentiment_counts['without_sentiment']} stocks\")\n",
    "print(f\"Failed: {len(failed_stocks)} stocks\")\n",
    "if failed_stocks:\n",
    "    print(f\"Failed stocks: {', '.join(failed_stocks)}\")\n",
    "\n"
   ]
  },
  {
   "cell_type": "code",
   "execution_count": 8,
   "id": "f06bf243",
   "metadata": {},
   "outputs": [
    {
     "name": "stdout",
     "output_type": "stream",
     "text": [
      "\n",
      "============================================================\n",
      "Saving prepared data...\n",
      "✓ Saved data for 20 stocks to enhanced_stock_data.pkl\n",
      "\n",
      "✓ All enhanced training data prepared!\n",
      "✓ Target: Price Change % (better for directional accuracy)\n",
      "✓ Features: Price + Sentiment + Time\n",
      "✓ Sentiment strategy: forward_fill (last known value persists)\n",
      "\n",
      "📊 Ready for enhanced model training with hyperparameter tuning!\n"
     ]
    }
   ],
   "source": [
    "print(\"\\n\" + \"=\"*60)\n",
    "print(\"Saving prepared data...\")\n",
    "\n",
    "with open('enhanced_stock_data.pkl', 'wb') as f:\n",
    "    pickle.dump(enhanced_stock_data, f)\n",
    "\n",
    "print(f\"✓ Saved data for {len(enhanced_stock_data)} stocks to enhanced_stock_data.pkl\")\n",
    "print(\"\\n✓ All enhanced training data prepared!\")\n",
    "print(\"✓ Target: Price Change % (better for directional accuracy)\")\n",
    "print(\"✓ Features: Price + Sentiment + Time\")\n",
    "print(\"✓ Sentiment strategy: forward_fill (last known value persists)\")\n",
    "print(\"\\n📊 Ready for enhanced model training with hyperparameter tuning!\")"
   ]
  },
  {
   "cell_type": "code",
   "execution_count": 9,
   "id": "c7199f6c",
   "metadata": {},
   "outputs": [
    {
     "name": "stdout",
     "output_type": "stream",
     "text": [
      "\n",
      "============================================================\n",
      "FEATURE ANALYSIS\n",
      "============================================================\n",
      "\n",
      "Analyzing features from AAPL:\n",
      "Total features: 3180\n",
      "Lookback window: 60 days\n",
      "Features per day: 53\n",
      "\n",
      "Feature categories:\n",
      "  - Price indicators: ~38 features\n",
      "  - Sentiment indicators: ~15 features\n",
      "  - Time-based: ~4 features\n",
      "\n",
      "Target variable (y) statistics for AAPL:\n",
      "  Mean change: 0.067%\n",
      "  Std dev: 1.964%\n",
      "  Min: -9.246%\n",
      "  Max: 15.329%\n",
      "  Positive days: 183 (56.8%)\n",
      "  Negative days: 138 (42.9%)\n"
     ]
    }
   ],
   "source": [
    "print(\"\\n\" + \"=\"*60)\n",
    "print(\"FEATURE ANALYSIS\")\n",
    "print(\"=\"*60)\n",
    "\n",
    "if enhanced_stock_data:\n",
    "    # Sample one stock for analysis\n",
    "    sample_symbol = list(enhanced_stock_data.keys())[0]\n",
    "    sample_data = enhanced_stock_data[sample_symbol]\n",
    "    \n",
    "    print(f\"\\nAnalyzing features from {sample_symbol}:\")\n",
    "    print(f\"Total features: {sample_data['feature_count']}\")\n",
    "    print(f\"Lookback window: 60 days\")\n",
    "    print(f\"Features per day: {sample_data['feature_count'] // 60}\")\n",
    "    \n",
    "    print(\"\\nFeature categories:\")\n",
    "    print(\"  - Price indicators: ~38 features\")\n",
    "    print(\"  - Sentiment indicators: ~15 features\")\n",
    "    print(\"  - Time-based: ~4 features\")\n",
    "    \n",
    "    print(f\"\\nTarget variable (y) statistics for {sample_symbol}:\")\n",
    "    print(f\"  Mean change: {sample_data['y_train'].mean():.3f}%\")\n",
    "    print(f\"  Std dev: {sample_data['y_train'].std():.3f}%\")\n",
    "    print(f\"  Min: {sample_data['y_train'].min():.3f}%\")\n",
    "    print(f\"  Max: {sample_data['y_train'].max():.3f}%\")\n",
    "    print(f\"  Positive days: {(sample_data['y_train'] > 0).sum()} ({(sample_data['y_train'] > 0).mean()*100:.1f}%)\")\n",
    "    print(f\"  Negative days: {(sample_data['y_train'] < 0).sum()} ({(sample_data['y_train'] < 0).mean()*100:.1f}%)\")\n",
    "else:\n",
    "    print(\"No data available for analysis\")"
   ]
  }
 ],
 "metadata": {
  "kernelspec": {
   "display_name": "Python 3",
   "language": "python",
   "name": "python3"
  },
  "language_info": {
   "codemirror_mode": {
    "name": "ipython",
    "version": 3
   },
   "file_extension": ".py",
   "mimetype": "text/x-python",
   "name": "python",
   "nbconvert_exporter": "python",
   "pygments_lexer": "ipython3",
   "version": "3.11.9"
  }
 },
 "nbformat": 4,
 "nbformat_minor": 5
}
