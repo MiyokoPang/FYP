{
 "cells": [
  {
   "cell_type": "code",
   "execution_count": 1,
   "id": "49631f38",
   "metadata": {},
   "outputs": [],
   "source": [
    "import pandas as pd\n",
    "import numpy as np\n",
    "import mysql.connector\n",
    "from datetime import datetime, timedelta\n",
    "import logging\n",
    "from sklearn.preprocessing import MinMaxScaler\n",
    "import warnings\n",
    "warnings.filterwarnings('ignore')\n",
    "\n",
    "class FeatureEngineering:\n",
    "    def __init__(self, db_config):\n",
    "        self.db_config = db_config\n",
    "        self.setup_logging()\n",
    "        \n",
    "    def setup_logging(self):\n",
    "        logging.basicConfig(\n",
    "            level=logging.INFO,\n",
    "            format='%(asctime)s - %(levelname)s - %(message)s',\n",
    "            handlers=[\n",
    "                logging.FileHandler('feature_engineering.log'),\n",
    "                logging.StreamHandler()\n",
    "            ]\n",
    "        )\n",
    "        self.logger = logging.getLogger(__name__)\n",
    "    \n",
    "    def connect_db(self):\n",
    "        try:\n",
    "            conn = mysql.connector.connect(**self.db_config)\n",
    "            return conn\n",
    "        except mysql.connector.Error as e:\n",
    "            self.logger.error(f\"Database connection error: {e}\")\n",
    "            return None\n",
    "    \n",
    "    def load_price_data(self, symbol, start_date=None, end_date=None):\n",
    "        \"\"\"Load historical price data for a symbol\"\"\"\n",
    "        conn = self.connect_db()\n",
    "        if not conn:\n",
    "            return None\n",
    "        \n",
    "        query = \"\"\"\n",
    "        SELECT date, open_price, high_price, low_price, close_price, volume\n",
    "        FROM historical_prices\n",
    "        WHERE symbol = %s\n",
    "        \"\"\"\n",
    "        \n",
    "        params = [symbol]\n",
    "        \n",
    "        if start_date:\n",
    "            query += \" AND date >= %s\"\n",
    "            params.append(start_date)\n",
    "        if end_date:\n",
    "            query += \" AND date <= %s\"\n",
    "            params.append(end_date)\n",
    "        \n",
    "        query += \" ORDER BY date ASC\"\n",
    "        \n",
    "        df = pd.read_sql(query, conn, params=params)\n",
    "        conn.close()\n",
    "        \n",
    "        if df.empty:\n",
    "            self.logger.warning(f\"No price data found for {symbol}\")\n",
    "            return None\n",
    "        \n",
    "        df['date'] = pd.to_datetime(df['date'])\n",
    "        df.set_index('date', inplace=True)\n",
    "        \n",
    "        return df\n",
    "    \n",
    "    def calculate_technical_indicators(self, df):\n",
    "        \"\"\"Calculate technical indicators from OHLCV data\"\"\"\n",
    "        if df is None or df.empty:\n",
    "            return None\n",
    "        \n",
    "        df = df.copy()\n",
    "        \n",
    "        # Moving Averages\n",
    "        df['MA_5'] = df['close_price'].rolling(window=5).mean()\n",
    "        df['MA_10'] = df['close_price'].rolling(window=10).mean()\n",
    "        df['MA_20'] = df['close_price'].rolling(window=20).mean()\n",
    "        df['MA_50'] = df['close_price'].rolling(window=50).mean()\n",
    "        \n",
    "        # Exponential Moving Averages\n",
    "        df['EMA_12'] = df['close_price'].ewm(span=12, adjust=False).mean()\n",
    "        df['EMA_26'] = df['close_price'].ewm(span=26, adjust=False).mean()\n",
    "        \n",
    "        # MACD\n",
    "        df['MACD'] = df['EMA_12'] - df['EMA_26']\n",
    "        df['MACD_signal'] = df['MACD'].ewm(span=9, adjust=False).mean()\n",
    "        df['MACD_diff'] = df['MACD'] - df['MACD_signal']\n",
    "        \n",
    "        # RSI (Relative Strength Index)\n",
    "        delta = df['close_price'].diff()\n",
    "        gain = (delta.where(delta > 0, 0)).rolling(window=14).mean()\n",
    "        loss = (-delta.where(delta < 0, 0)).rolling(window=14).mean()\n",
    "        rs = gain / loss\n",
    "        df['RSI'] = 100 - (100 / (1 + rs))\n",
    "        \n",
    "        # Bollinger Bands\n",
    "        df['BB_middle'] = df['close_price'].rolling(window=20).mean()\n",
    "        bb_std = df['close_price'].rolling(window=20).std()\n",
    "        df['BB_upper'] = df['BB_middle'] + (bb_std * 2)\n",
    "        df['BB_lower'] = df['BB_middle'] - (bb_std * 2)\n",
    "        df['BB_width'] = df['BB_upper'] - df['BB_lower']\n",
    "        \n",
    "        # Price momentum\n",
    "        df['momentum_1'] = df['close_price'].pct_change(1)\n",
    "        df['momentum_5'] = df['close_price'].pct_change(5)\n",
    "        df['momentum_10'] = df['close_price'].pct_change(10)\n",
    "        \n",
    "        # Volatility\n",
    "        df['volatility_5'] = df['close_price'].rolling(window=5).std()\n",
    "        df['volatility_20'] = df['close_price'].rolling(window=20).std()\n",
    "        \n",
    "        # Volume indicators\n",
    "        df['volume_MA_5'] = df['volume'].rolling(window=5).mean()\n",
    "        df['volume_MA_20'] = df['volume'].rolling(window=20).mean()\n",
    "        df['volume_ratio'] = df['volume'] / df['volume_MA_20']\n",
    "        \n",
    "        # Price range\n",
    "        df['daily_range'] = df['high_price'] - df['low_price']\n",
    "        df['daily_return'] = df['close_price'].pct_change()\n",
    "        \n",
    "        # Average True Range (ATR)\n",
    "        high_low = df['high_price'] - df['low_price']\n",
    "        high_close = np.abs(df['high_price'] - df['close_price'].shift())\n",
    "        low_close = np.abs(df['low_price'] - df['close_price'].shift())\n",
    "        ranges = pd.concat([high_low, high_close, low_close], axis=1)\n",
    "        true_range = np.max(ranges, axis=1)\n",
    "        df['ATR'] = true_range.rolling(14).mean()\n",
    "        \n",
    "        # On-Balance Volume (OBV)\n",
    "        df['OBV'] = (np.sign(df['close_price'].diff()) * df['volume']).fillna(0).cumsum()\n",
    "        \n",
    "        return df\n",
    "    \n",
    "    def create_supervised_dataset(self, df, lookback=60, forecast_horizon=1):\n",
    "        \"\"\"\n",
    "        Create supervised learning dataset\n",
    "        Use past 'lookback' days to predict 'forecast_horizon' days ahead\n",
    "        \"\"\"\n",
    "        if df is None or len(df) < lookback + forecast_horizon:\n",
    "            self.logger.warning(\"Insufficient data for supervised dataset creation\")\n",
    "            return None, None\n",
    "        \n",
    "        # Drop rows with NaN values from technical indicators\n",
    "        df = df.dropna()\n",
    "        \n",
    "        if len(df) < lookback + forecast_horizon:\n",
    "            self.logger.warning(\"Insufficient data after dropping NaN values\")\n",
    "            return None, None\n",
    "        \n",
    "        feature_columns = [\n",
    "            'open_price', 'high_price', 'low_price', 'close_price', 'volume',\n",
    "            'MA_5', 'MA_10', 'MA_20', 'MA_50',\n",
    "            'EMA_12', 'EMA_26', 'MACD', 'MACD_signal', 'MACD_diff',\n",
    "            'RSI', 'BB_middle', 'BB_upper', 'BB_lower', 'BB_width',\n",
    "            'momentum_1', 'momentum_5', 'momentum_10',\n",
    "            'volatility_5', 'volatility_20',\n",
    "            'volume_MA_5', 'volume_MA_20', 'volume_ratio',\n",
    "            'daily_range', 'daily_return', 'ATR', 'OBV'\n",
    "        ]\n",
    "        \n",
    "        X_list = []\n",
    "        y_list = []\n",
    "        dates_list = []\n",
    "        \n",
    "        for i in range(lookback, len(df) - forecast_horizon + 1):\n",
    "            # Features: past 'lookback' days\n",
    "            X_window = df[feature_columns].iloc[i-lookback:i].values\n",
    "            \n",
    "            # Flatten the window into a single feature vector\n",
    "            X_flat = X_window.flatten()\n",
    "            \n",
    "            # Target: closing price 'forecast_horizon' days ahead\n",
    "            y_target = df['close_price'].iloc[i + forecast_horizon - 1]\n",
    "            \n",
    "            X_list.append(X_flat)\n",
    "            y_list.append(y_target)\n",
    "            dates_list.append(df.index[i + forecast_horizon - 1])\n",
    "        \n",
    "        X = np.array(X_list)\n",
    "        y = np.array(y_list)\n",
    "        \n",
    "        return X, y, dates_list\n",
    "    \n",
    "    def prepare_training_data(self, symbol, lookback=60, test_size=0.2):\n",
    "        \"\"\"\n",
    "        Complete pipeline: load data, calculate indicators, create supervised dataset\n",
    "        Returns: X_train, X_test, y_train, y_test, scaler, test_dates\n",
    "        \"\"\"\n",
    "        self.logger.info(f\"Preparing training data for {symbol}\")\n",
    "        \n",
    "        # Load price data\n",
    "        df = self.load_price_data(symbol)\n",
    "        \n",
    "        if df is None or df.empty:\n",
    "            self.logger.error(f\"No data available for {symbol}\")\n",
    "            return None\n",
    "        \n",
    "        # Calculate technical indicators\n",
    "        df = self.calculate_technical_indicators(df)\n",
    "        \n",
    "        # Create supervised dataset\n",
    "        X, y, dates = self.create_supervised_dataset(df, lookback=lookback)\n",
    "        \n",
    "        if X is None:\n",
    "            self.logger.error(f\"Failed to create supervised dataset for {symbol}\")\n",
    "            return None\n",
    "        \n",
    "        # Train-test split (time-based)\n",
    "        split_idx = int(len(X) * (1 - test_size))\n",
    "        \n",
    "        X_train = X[:split_idx]\n",
    "        X_test = X[split_idx:]\n",
    "        y_train = y[:split_idx]\n",
    "        y_test = y[split_idx:]\n",
    "        test_dates = dates[split_idx:]\n",
    "        \n",
    "        # Scale features (fit only on training data)\n",
    "        scaler = MinMaxScaler()\n",
    "        X_train_scaled = scaler.fit_transform(X_train)\n",
    "        X_test_scaled = scaler.transform(X_test)\n",
    "        \n",
    "        self.logger.info(f\"{symbol}: Training samples={len(X_train)}, Test samples={len(X_test)}\")\n",
    "        \n",
    "        return {\n",
    "            'symbol': symbol,\n",
    "            'X_train': X_train_scaled,\n",
    "            'X_test': X_test_scaled,\n",
    "            'y_train': y_train,\n",
    "            'y_test': y_test,\n",
    "            'scaler': scaler,\n",
    "            'test_dates': test_dates,\n",
    "            'feature_count': X_train.shape[1]\n",
    "        }\n",
    "    \n",
    "    def get_all_symbols(self):\n",
    "        \"\"\"Get all stock symbols from database\"\"\"\n",
    "        conn = self.connect_db()\n",
    "        if not conn:\n",
    "            return []\n",
    "        \n",
    "        cursor = conn.cursor()\n",
    "        cursor.execute(\"SELECT symbol FROM stocks ORDER BY symbol\")\n",
    "        symbols = [row[0] for row in cursor.fetchall()]\n",
    "        cursor.close()\n",
    "        conn.close()\n",
    "        \n",
    "        return symbols"
   ]
  },
  {
   "cell_type": "code",
   "execution_count": 2,
   "id": "263db65c",
   "metadata": {},
   "outputs": [
    {
     "name": "stdout",
     "output_type": "stream",
     "text": [
      "✓ Feature Engineering initialized\n"
     ]
    }
   ],
   "source": [
    "db_config = {\n",
    "    'host': '127.0.0.1',\n",
    "    'user': 'root',\n",
    "    'password': '',\n",
    "    'database': 'trading_system'\n",
    "}\n",
    "\n",
    "# Initialize feature engineering\n",
    "fe = FeatureEngineering(db_config)\n",
    "print(\"✓ Feature Engineering initialized\")\n"
   ]
  },
  {
   "cell_type": "code",
   "execution_count": 3,
   "id": "f91346d8",
   "metadata": {},
   "outputs": [
    {
     "name": "stderr",
     "output_type": "stream",
     "text": [
      "2025-10-05 20:22:23,797 - INFO - Preparing training data for AAPL\n",
      "2025-10-05 20:22:23,982 - INFO - package: mysql.connector.plugins\n"
     ]
    },
    {
     "name": "stdout",
     "output_type": "stream",
     "text": [
      "Testing feature engineering on AAPL...\n",
      "============================================================\n"
     ]
    },
    {
     "name": "stderr",
     "output_type": "stream",
     "text": [
      "2025-10-05 20:22:23,982 - INFO - plugin_name: caching_sha2_password\n",
      "2025-10-05 20:22:23,982 - INFO - AUTHENTICATION_PLUGIN_CLASS: MySQLCachingSHA2PasswordAuthPlugin\n",
      "2025-10-05 20:22:26,592 - INFO - AAPL: Training samples=314, Test samples=79\n"
     ]
    },
    {
     "name": "stdout",
     "output_type": "stream",
     "text": [
      "Symbol: AAPL\n",
      "Training samples: 314\n",
      "Test samples: 79\n",
      "Features per sample: 1860\n",
      "Target variable (y) range: $163.82 - $258.10\n",
      "Test date range: 2025-06-12 00:00:00 to 2025-10-03 00:00:00\n",
      "\n",
      "✓ Feature engineering working correctly!\n"
     ]
    }
   ],
   "source": [
    "print(\"Testing feature engineering on AAPL...\")\n",
    "print(\"=\"*60)\n",
    "\n",
    "# Prepare data for one stock\n",
    "test_data = fe.prepare_training_data('AAPL', lookback=60, test_size=0.2)\n",
    "\n",
    "if test_data:\n",
    "    print(f\"Symbol: {test_data['symbol']}\")\n",
    "    print(f\"Training samples: {len(test_data['X_train'])}\")\n",
    "    print(f\"Test samples: {len(test_data['X_test'])}\")\n",
    "    print(f\"Features per sample: {test_data['feature_count']}\")\n",
    "    print(f\"Target variable (y) range: ${test_data['y_train'].min():.2f} - ${test_data['y_train'].max():.2f}\")\n",
    "    print(f\"Test date range: {test_data['test_dates'][0]} to {test_data['test_dates'][-1]}\")\n",
    "    print(\"\\n✓ Feature engineering working correctly!\")\n",
    "else:\n",
    "    print(\"✗ Feature engineering failed\")"
   ]
  },
  {
   "cell_type": "code",
   "execution_count": null,
   "id": "28734e0c",
   "metadata": {},
   "outputs": [
    {
     "name": "stderr",
     "output_type": "stream",
     "text": [
      "2025-10-05 20:22:42,882 - INFO - Preparing training data for AAPL\n"
     ]
    },
    {
     "name": "stdout",
     "output_type": "stream",
     "text": [
      "Preparing training data for all stocks...\n",
      "This will take 2-3 minutes...\n",
      "\n",
      "Found 24 stocks to process\n",
      "[1/24] Processing AAPL..."
     ]
    },
    {
     "name": "stderr",
     "output_type": "stream",
     "text": [
      "2025-10-05 20:22:44,722 - INFO - AAPL: Training samples=314, Test samples=79\n",
      "2025-10-05 20:22:44,726 - INFO - Preparing training data for AMD\n"
     ]
    },
    {
     "name": "stdout",
     "output_type": "stream",
     "text": [
      " ✓ 314 train samples\n",
      "[2/24] Processing AMD..."
     ]
    },
    {
     "name": "stderr",
     "output_type": "stream",
     "text": [
      "2025-10-05 20:22:45,289 - INFO - AMD: Training samples=314, Test samples=79\n",
      "2025-10-05 20:22:45,289 - INFO - Preparing training data for AMZN\n"
     ]
    },
    {
     "name": "stdout",
     "output_type": "stream",
     "text": [
      " ✓ 314 train samples\n",
      "[3/24] Processing AMZN..."
     ]
    },
    {
     "name": "stderr",
     "output_type": "stream",
     "text": [
      "2025-10-05 20:22:45,656 - INFO - AMZN: Training samples=314, Test samples=79\n",
      "2025-10-05 20:22:45,661 - INFO - Preparing training data for BLK\n"
     ]
    },
    {
     "name": "stdout",
     "output_type": "stream",
     "text": [
      " ✓ 314 train samples\n",
      "[4/24] Processing BLK..."
     ]
    },
    {
     "name": "stderr",
     "output_type": "stream",
     "text": [
      "2025-10-05 20:22:45,986 - INFO - BLK: Training samples=314, Test samples=79\n",
      "2025-10-05 20:22:45,986 - INFO - Preparing training data for CHN\n"
     ]
    },
    {
     "name": "stdout",
     "output_type": "stream",
     "text": [
      " ✓ 314 train samples\n",
      "[5/24] Processing CHN..."
     ]
    },
    {
     "name": "stderr",
     "output_type": "stream",
     "text": [
      "2025-10-05 20:22:46,352 - INFO - CHN: Training samples=314, Test samples=79\n",
      "2025-10-05 20:22:46,352 - INFO - Preparing training data for ERO\n"
     ]
    },
    {
     "name": "stdout",
     "output_type": "stream",
     "text": [
      " ✓ 314 train samples\n",
      "[6/24] Processing ERO..."
     ]
    },
    {
     "name": "stderr",
     "output_type": "stream",
     "text": [
      "2025-10-05 20:22:46,696 - INFO - ERO: Training samples=314, Test samples=79\n",
      "2025-10-05 20:22:46,699 - INFO - Preparing training data for FXP\n"
     ]
    },
    {
     "name": "stdout",
     "output_type": "stream",
     "text": [
      " ✓ 314 train samples\n",
      "[7/24] Processing FXP..."
     ]
    },
    {
     "name": "stderr",
     "output_type": "stream",
     "text": [
      "2025-10-05 20:22:47,172 - INFO - FXP: Training samples=314, Test samples=79\n",
      "2025-10-05 20:22:47,172 - INFO - Preparing training data for GOOGL\n"
     ]
    },
    {
     "name": "stdout",
     "output_type": "stream",
     "text": [
      " ✓ 314 train samples\n",
      "[8/24] Processing GOOGL..."
     ]
    },
    {
     "name": "stderr",
     "output_type": "stream",
     "text": [
      "2025-10-05 20:22:47,574 - INFO - GOOGL: Training samples=314, Test samples=79\n",
      "2025-10-05 20:22:47,574 - INFO - Preparing training data for GXC\n"
     ]
    },
    {
     "name": "stdout",
     "output_type": "stream",
     "text": [
      " ✓ 314 train samples\n",
      "[9/24] Processing GXC..."
     ]
    },
    {
     "name": "stderr",
     "output_type": "stream",
     "text": [
      "2025-10-05 20:22:48,069 - INFO - GXC: Training samples=314, Test samples=79\n",
      "2025-10-05 20:22:48,072 - INFO - Preparing training data for JPM\n"
     ]
    },
    {
     "name": "stdout",
     "output_type": "stream",
     "text": [
      " ✓ 314 train samples\n",
      "[10/24] Processing JPM..."
     ]
    },
    {
     "name": "stderr",
     "output_type": "stream",
     "text": [
      "2025-10-05 20:22:48,442 - INFO - JPM: Training samples=314, Test samples=79\n",
      "2025-10-05 20:22:48,442 - INFO - Preparing training data for KR\n"
     ]
    },
    {
     "name": "stdout",
     "output_type": "stream",
     "text": [
      " ✓ 314 train samples\n",
      "[11/24] Processing KR..."
     ]
    },
    {
     "name": "stderr",
     "output_type": "stream",
     "text": [
      "2025-10-05 20:22:48,832 - INFO - KR: Training samples=314, Test samples=79\n",
      "2025-10-05 20:22:48,832 - INFO - Preparing training data for MDT\n"
     ]
    },
    {
     "name": "stdout",
     "output_type": "stream",
     "text": [
      " ✓ 314 train samples\n",
      "[12/24] Processing MDT..."
     ]
    },
    {
     "name": "stderr",
     "output_type": "stream",
     "text": [
      "2025-10-05 20:22:49,169 - INFO - MDT: Training samples=314, Test samples=79\n",
      "2025-10-05 20:22:49,170 - INFO - Preparing training data for META\n"
     ]
    },
    {
     "name": "stdout",
     "output_type": "stream",
     "text": [
      " ✓ 314 train samples\n",
      "[13/24] Processing META..."
     ]
    },
    {
     "name": "stderr",
     "output_type": "stream",
     "text": [
      "2025-10-05 20:22:49,497 - INFO - META: Training samples=314, Test samples=79\n",
      "2025-10-05 20:22:49,500 - INFO - Preparing training data for MSFT\n"
     ]
    },
    {
     "name": "stdout",
     "output_type": "stream",
     "text": [
      " ✓ 314 train samples\n",
      "[14/24] Processing MSFT..."
     ]
    },
    {
     "name": "stderr",
     "output_type": "stream",
     "text": [
      "2025-10-05 20:22:49,861 - INFO - MSFT: Training samples=314, Test samples=79\n",
      "2025-10-05 20:22:49,863 - INFO - Preparing training data for NFLX\n"
     ]
    },
    {
     "name": "stdout",
     "output_type": "stream",
     "text": [
      " ✓ 314 train samples\n",
      "[15/24] Processing NFLX..."
     ]
    },
    {
     "name": "stderr",
     "output_type": "stream",
     "text": [
      "2025-10-05 20:22:50,201 - INFO - NFLX: Training samples=314, Test samples=79\n",
      "2025-10-05 20:22:50,201 - INFO - Preparing training data for NVDA\n"
     ]
    },
    {
     "name": "stdout",
     "output_type": "stream",
     "text": [
      " ✓ 314 train samples\n",
      "[16/24] Processing NVDA..."
     ]
    },
    {
     "name": "stderr",
     "output_type": "stream",
     "text": [
      "2025-10-05 20:22:50,591 - INFO - NVDA: Training samples=314, Test samples=79\n",
      "2025-10-05 20:22:50,591 - INFO - Preparing training data for OXY\n"
     ]
    },
    {
     "name": "stdout",
     "output_type": "stream",
     "text": [
      " ✓ 314 train samples\n",
      "[17/24] Processing OXY..."
     ]
    },
    {
     "name": "stderr",
     "output_type": "stream",
     "text": [
      "2025-10-05 20:22:50,933 - INFO - OXY: Training samples=314, Test samples=79\n",
      "2025-10-05 20:22:50,933 - INFO - Preparing training data for PGJ\n"
     ]
    },
    {
     "name": "stdout",
     "output_type": "stream",
     "text": [
      " ✓ 314 train samples\n",
      "[18/24] Processing PGJ..."
     ]
    },
    {
     "name": "stderr",
     "output_type": "stream",
     "text": [
      "2025-10-05 20:22:51,297 - INFO - PGJ: Training samples=314, Test samples=79\n",
      "2025-10-05 20:22:51,297 - INFO - Preparing training data for RSP\n"
     ]
    },
    {
     "name": "stdout",
     "output_type": "stream",
     "text": [
      " ✓ 314 train samples\n",
      "[19/24] Processing RSP..."
     ]
    },
    {
     "name": "stderr",
     "output_type": "stream",
     "text": [
      "2025-10-05 20:22:51,621 - INFO - RSP: Training samples=314, Test samples=79\n",
      "2025-10-05 20:22:51,621 - INFO - Preparing training data for SPY\n"
     ]
    },
    {
     "name": "stdout",
     "output_type": "stream",
     "text": [
      " ✓ 314 train samples\n",
      "[20/24] Processing SPY..."
     ]
    },
    {
     "name": "stderr",
     "output_type": "stream",
     "text": [
      "2025-10-05 20:22:51,967 - INFO - SPY: Training samples=314, Test samples=79\n",
      "2025-10-05 20:22:51,967 - INFO - Preparing training data for TSLA\n"
     ]
    },
    {
     "name": "stdout",
     "output_type": "stream",
     "text": [
      " ✓ 314 train samples\n",
      "[21/24] Processing TSLA..."
     ]
    },
    {
     "name": "stderr",
     "output_type": "stream",
     "text": [
      "2025-10-05 20:22:52,315 - INFO - TSLA: Training samples=314, Test samples=79\n",
      "2025-10-05 20:22:52,315 - INFO - Preparing training data for VGK\n"
     ]
    },
    {
     "name": "stdout",
     "output_type": "stream",
     "text": [
      " ✓ 314 train samples\n",
      "[22/24] Processing VGK..."
     ]
    },
    {
     "name": "stderr",
     "output_type": "stream",
     "text": [
      "2025-10-05 20:22:52,671 - INFO - VGK: Training samples=314, Test samples=79\n",
      "2025-10-05 20:22:52,671 - INFO - Preparing training data for XPP\n"
     ]
    },
    {
     "name": "stdout",
     "output_type": "stream",
     "text": [
      " ✓ 314 train samples\n",
      "[23/24] Processing XPP..."
     ]
    },
    {
     "name": "stderr",
     "output_type": "stream",
     "text": [
      "2025-10-05 20:22:53,053 - INFO - XPP: Training samples=314, Test samples=79\n",
      "2025-10-05 20:22:53,053 - INFO - Preparing training data for YINN\n"
     ]
    },
    {
     "name": "stdout",
     "output_type": "stream",
     "text": [
      " ✓ 314 train samples\n",
      "[24/24] Processing YINN..."
     ]
    },
    {
     "name": "stderr",
     "output_type": "stream",
     "text": [
      "2025-10-05 20:22:53,381 - INFO - YINN: Training samples=314, Test samples=79\n"
     ]
    },
    {
     "name": "stdout",
     "output_type": "stream",
     "text": [
      " ✓ 314 train samples\n",
      "\n",
      "============================================================\n",
      "SUMMARY:\n",
      "Successfully processed: 24 stocks\n",
      "Failed: 0 stocks\n",
      "\n",
      "✓ All training data prepared!\n",
      "Ready for model training in next step.\n"
     ]
    }
   ],
   "source": [
    "print(\"Preparing training data for all stocks...\")\n",
    "\n",
    "symbols = fe.get_all_symbols()\n",
    "print(f\"Found {len(symbols)} stocks to process\")\n",
    "\n",
    "all_stock_data = {}\n",
    "failed_stocks = []\n",
    "\n",
    "for idx, symbol in enumerate(symbols, 1):\n",
    "    print(f\"[{idx}/{len(symbols)}] Processing {symbol}...\", end='')\n",
    "    \n",
    "    try:\n",
    "        data = fe.prepare_training_data(symbol, lookback=60, test_size=0.2)\n",
    "        \n",
    "        if data and len(data['X_train']) > 0:\n",
    "            all_stock_data[symbol] = data\n",
    "            print(f\" ✓ {len(data['X_train'])} train samples\")\n",
    "        else:\n",
    "            failed_stocks.append(symbol)\n",
    "            print(f\" ✗ Failed\")\n",
    "    except Exception as e:\n",
    "        failed_stocks.append(symbol)\n",
    "        print(f\" ✗ Error: {str(e)[:50]}\")\n",
    "\n",
    "print(\"\\n\" + \"=\"*60)\n",
    "print(\"SUMMARY:\")\n",
    "print(f\"Successfully processed: {len(all_stock_data)} stocks\")\n",
    "print(f\"Failed: {len(failed_stocks)} stocks\")\n",
    "if failed_stocks:\n",
    "    print(f\"Failed stocks: {', '.join(failed_stocks)}\")\n",
    "\n",
    "print(\"\\n✓ All training data prepared!\")\n",
    "print(\"Ready for model training in next step.\")"
   ]
  },
  {
   "cell_type": "code",
   "execution_count": 5,
   "id": "7e84ec23",
   "metadata": {},
   "outputs": [
    {
     "name": "stdout",
     "output_type": "stream",
     "text": [
      "✓ Saved data for 24 stocks to prepared_stock_data.pkl\n"
     ]
    }
   ],
   "source": [
    "# Save prepared data\n",
    "import pickle\n",
    "\n",
    "with open('prepared_stock_data.pkl', 'wb') as f:\n",
    "    pickle.dump(all_stock_data, f)\n",
    "\n",
    "print(f\"✓ Saved data for {len(all_stock_data)} stocks to prepared_stock_data.pkl\")"
   ]
  }
 ],
 "metadata": {
  "kernelspec": {
   "display_name": "Python 3",
   "language": "python",
   "name": "python3"
  },
  "language_info": {
   "codemirror_mode": {
    "name": "ipython",
    "version": 3
   },
   "file_extension": ".py",
   "mimetype": "text/x-python",
   "name": "python",
   "nbconvert_exporter": "python",
   "pygments_lexer": "ipython3",
   "version": "3.11.9"
  }
 },
 "nbformat": 4,
 "nbformat_minor": 5
}
