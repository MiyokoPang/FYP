{
 "cells": [
  {
   "cell_type": "code",
   "execution_count": 1,
   "id": "d2486220",
   "metadata": {},
   "outputs": [],
   "source": [
    "import pandas as pd\n",
    "import numpy as np\n",
    "import mysql.connector\n",
    "from datetime import datetime, timedelta\n",
    "import logging\n",
    "from sklearn.preprocessing import MinMaxScaler, StandardScaler\n",
    "import warnings\n",
    "warnings.filterwarnings('ignore')\n",
    "\n",
    "class EnhancedFeatureEngineering:\n",
    "    def __init__(self, db_config):\n",
    "        self.db_config = db_config\n",
    "        self.setup_logging()\n",
    "        \n",
    "    def setup_logging(self):\n",
    "        logging.basicConfig(\n",
    "            level=logging.INFO,\n",
    "            format='%(asctime)s - %(levelname)s - %(message)s',\n",
    "            handlers=[\n",
    "                logging.FileHandler('enhanced_feature_engineering.log'),\n",
    "                logging.StreamHandler()\n",
    "            ]\n",
    "        )\n",
    "        self.logger = logging.getLogger(__name__)\n",
    "    \n",
    "    def connect_db(self):\n",
    "        try:\n",
    "            conn = mysql.connector.connect(**self.db_config)\n",
    "            return conn\n",
    "        except mysql.connector.Error as e:\n",
    "            self.logger.error(f\"Database connection error: {e}\")\n",
    "            return None\n",
    "    \n",
    "    def load_price_data(self, symbol, start_date=None, end_date=None):\n",
    "        \"\"\"Load historical price data for a symbol\"\"\"\n",
    "        conn = self.connect_db()\n",
    "        if not conn:\n",
    "            return None\n",
    "        \n",
    "        query = \"\"\"\n",
    "        SELECT date, open_price, high_price, low_price, close_price, volume\n",
    "        FROM historical_prices\n",
    "        WHERE symbol = %s\n",
    "        \"\"\"\n",
    "        \n",
    "        params = [symbol]\n",
    "        \n",
    "        if start_date:\n",
    "            query += \" AND date >= %s\"\n",
    "            params.append(start_date)\n",
    "        if end_date:\n",
    "            query += \" AND date <= %s\"\n",
    "            params.append(end_date)\n",
    "        \n",
    "        query += \" ORDER BY date ASC\"\n",
    "        \n",
    "        df = pd.read_sql(query, conn, params=params)\n",
    "        conn.close()\n",
    "        \n",
    "        if df.empty:\n",
    "            self.logger.warning(f\"No price data found for {symbol}\")\n",
    "            return None\n",
    "        \n",
    "        df['date'] = pd.to_datetime(df['date'])\n",
    "        df.set_index('date', inplace=True)\n",
    "        \n",
    "        return df\n",
    "    \n",
    "    def load_sentiment_data(self, symbol):\n",
    "        \"\"\"Load sentiment data for a symbol\"\"\"\n",
    "        conn = self.connect_db()\n",
    "        if not conn:\n",
    "            return None\n",
    "        \n",
    "        query = \"\"\"\n",
    "        SELECT date, \n",
    "               reddit_avg_sentiment,\n",
    "               reddit_post_count,\n",
    "               news_avg_sentiment,\n",
    "               news_article_count,\n",
    "               combined_sentiment,\n",
    "               total_mentions\n",
    "        FROM daily_sentiment\n",
    "        WHERE symbol = %s\n",
    "        ORDER BY date ASC\n",
    "        \"\"\"\n",
    "        \n",
    "        df = pd.read_sql(query, conn, params=[symbol])\n",
    "        conn.close()\n",
    "        \n",
    "        if df.empty:\n",
    "            self.logger.warning(f\"No sentiment data found for {symbol}\")\n",
    "            return None\n",
    "        \n",
    "        df['date'] = pd.to_datetime(df['date'])\n",
    "        df.set_index('date', inplace=True)\n",
    "        \n",
    "        return df\n",
    "    \n",
    "    def merge_price_sentiment(self, price_df, sentiment_df):\n",
    "        \"\"\"Merge price and sentiment data\"\"\"\n",
    "        if sentiment_df is None or sentiment_df.empty:\n",
    "            # No sentiment data - create neutral sentiment columns\n",
    "            price_df['reddit_avg_sentiment'] = 0.0\n",
    "            price_df['reddit_post_count'] = 0\n",
    "            price_df['news_avg_sentiment'] = 0.0\n",
    "            price_df['news_article_count'] = 0\n",
    "            price_df['combined_sentiment'] = 0.0\n",
    "            price_df['total_mentions'] = 0\n",
    "            price_df['has_sentiment'] = 0\n",
    "            return price_df\n",
    "        \n",
    "        # Merge on date\n",
    "        merged = price_df.merge(sentiment_df, left_index=True, right_index=True, how='left')\n",
    "        \n",
    "        # Fill missing sentiment with neutral (0)\n",
    "        sentiment_cols = ['reddit_avg_sentiment', 'news_avg_sentiment', 'combined_sentiment']\n",
    "        count_cols = ['reddit_post_count', 'news_article_count', 'total_mentions']\n",
    "        \n",
    "        for col in sentiment_cols:\n",
    "            merged[col] = merged[col].fillna(0.0)\n",
    "        \n",
    "        for col in count_cols:\n",
    "            merged[col] = merged[col].fillna(0)\n",
    "        \n",
    "        # Flag for whether sentiment data exists\n",
    "        merged['has_sentiment'] = (merged['total_mentions'] > 0).astype(int)\n",
    "        \n",
    "        return merged\n",
    "    \n",
    "    def calculate_technical_indicators(self, df):\n",
    "        \"\"\"Calculate technical indicators from OHLCV data\"\"\"\n",
    "        if df is None or df.empty:\n",
    "            return None\n",
    "        \n",
    "        df = df.copy()\n",
    "        \n",
    "        # Moving Averages\n",
    "        df['MA_5'] = df['close_price'].rolling(window=5).mean()\n",
    "        df['MA_10'] = df['close_price'].rolling(window=10).mean()\n",
    "        df['MA_20'] = df['close_price'].rolling(window=20).mean()\n",
    "        df['MA_50'] = df['close_price'].rolling(window=50).mean()\n",
    "        \n",
    "        # Exponential Moving Averages\n",
    "        df['EMA_12'] = df['close_price'].ewm(span=12, adjust=False).mean()\n",
    "        df['EMA_26'] = df['close_price'].ewm(span=26, adjust=False).mean()\n",
    "        \n",
    "        # MACD\n",
    "        df['MACD'] = df['EMA_12'] - df['EMA_26']\n",
    "        df['MACD_signal'] = df['MACD'].ewm(span=9, adjust=False).mean()\n",
    "        df['MACD_diff'] = df['MACD'] - df['MACD_signal']\n",
    "        \n",
    "        # RSI (Relative Strength Index)\n",
    "        delta = df['close_price'].diff()\n",
    "        gain = (delta.where(delta > 0, 0)).rolling(window=14).mean()\n",
    "        loss = (-delta.where(delta < 0, 0)).rolling(window=14).mean()\n",
    "        rs = gain / loss\n",
    "        df['RSI'] = 100 - (100 / (1 + rs))\n",
    "        \n",
    "        # Bollinger Bands\n",
    "        df['BB_middle'] = df['close_price'].rolling(window=20).mean()\n",
    "        bb_std = df['close_price'].rolling(window=20).std()\n",
    "        df['BB_upper'] = df['BB_middle'] + (bb_std * 2)\n",
    "        df['BB_lower'] = df['BB_middle'] - (bb_std * 2)\n",
    "        df['BB_width'] = df['BB_upper'] - df['BB_lower']\n",
    "        df['BB_position'] = (df['close_price'] - df['BB_lower']) / (df['BB_upper'] - df['BB_lower'])\n",
    "        \n",
    "        # Price momentum\n",
    "        df['momentum_1'] = df['close_price'].pct_change(1)\n",
    "        df['momentum_5'] = df['close_price'].pct_change(5)\n",
    "        df['momentum_10'] = df['close_price'].pct_change(10)\n",
    "        df['momentum_20'] = df['close_price'].pct_change(20)\n",
    "        \n",
    "        # Volatility\n",
    "        df['volatility_5'] = df['close_price'].rolling(window=5).std()\n",
    "        df['volatility_20'] = df['close_price'].rolling(window=20).std()\n",
    "        df['volatility_ratio'] = df['volatility_5'] / df['volatility_20']\n",
    "        \n",
    "        # Volume indicators\n",
    "        df['volume_MA_5'] = df['volume'].rolling(window=5).mean()\n",
    "        df['volume_MA_20'] = df['volume'].rolling(window=20).mean()\n",
    "        df['volume_ratio'] = df['volume'] / df['volume_MA_20']\n",
    "        \n",
    "        # Price range\n",
    "        df['daily_range'] = df['high_price'] - df['low_price']\n",
    "        df['daily_return'] = df['close_price'].pct_change()\n",
    "        \n",
    "        # Average True Range (ATR)\n",
    "        high_low = df['high_price'] - df['low_price']\n",
    "        high_close = np.abs(df['high_price'] - df['close_price'].shift())\n",
    "        low_close = np.abs(df['low_price'] - df['close_price'].shift())\n",
    "        ranges = pd.concat([high_low, high_close, low_close], axis=1)\n",
    "        true_range = np.max(ranges, axis=1)\n",
    "        df['ATR'] = true_range.rolling(14).mean()\n",
    "        \n",
    "        # On-Balance Volume (OBV)\n",
    "        df['OBV'] = (np.sign(df['close_price'].diff()) * df['volume']).fillna(0).cumsum()\n",
    "        \n",
    "        # Time-based features\n",
    "        df['day_of_week'] = df.index.dayofweek  # 0=Monday, 4=Friday\n",
    "        df['month'] = df.index.month\n",
    "        df['quarter'] = df.index.quarter\n",
    "        df['day_of_month'] = df.index.day\n",
    "        \n",
    "        return df\n",
    "    \n",
    "    def calculate_sentiment_features(self, df):\n",
    "        \"\"\"Calculate additional sentiment-based features\"\"\"\n",
    "        if df is None or df.empty:\n",
    "            return None\n",
    "        \n",
    "        df = df.copy()\n",
    "        \n",
    "        # Sentiment momentum (change over time)\n",
    "        df['sentiment_momentum_3'] = df['combined_sentiment'].diff(3)\n",
    "        df['sentiment_momentum_7'] = df['combined_sentiment'].diff(7)\n",
    "        \n",
    "        # Sentiment moving averages\n",
    "        df['sentiment_MA_3'] = df['combined_sentiment'].rolling(window=3).mean()\n",
    "        df['sentiment_MA_7'] = df['combined_sentiment'].rolling(window=7).mean()\n",
    "        \n",
    "        # Mention volume trends\n",
    "        df['mentions_MA_3'] = df['total_mentions'].rolling(window=3).mean()\n",
    "        df['mentions_trend'] = df['total_mentions'] / (df['mentions_MA_3'] + 1)  # +1 to avoid div by 0\n",
    "        \n",
    "        # Sentiment-price correlation features\n",
    "        df['sentiment_price_alignment'] = np.sign(df['combined_sentiment']) * np.sign(df['daily_return'])\n",
    "        \n",
    "        # Reddit vs News sentiment divergence\n",
    "        df['sentiment_divergence'] = df['reddit_avg_sentiment'] - df['news_avg_sentiment']\n",
    "        \n",
    "        return df\n",
    "    \n",
    "    def create_supervised_dataset(self, df, lookback=60, forecast_horizon=1, predict_change=True):\n",
    "        \"\"\"\n",
    "        Create supervised learning dataset\n",
    "        predict_change: If True, predict price change %. If False, predict absolute price.\n",
    "        \"\"\"\n",
    "        if df is None or len(df) < lookback + forecast_horizon:\n",
    "            self.logger.warning(\"Insufficient data for supervised dataset creation\")\n",
    "            return None, None, None\n",
    "        \n",
    "        # Drop rows with NaN values from technical indicators\n",
    "        df = df.dropna()\n",
    "        \n",
    "        if len(df) < lookback + forecast_horizon:\n",
    "            self.logger.warning(\"Insufficient data after dropping NaN values\")\n",
    "            return None, None, None\n",
    "        \n",
    "        # Define feature columns\n",
    "        price_features = [\n",
    "            'open_price', 'high_price', 'low_price', 'close_price', 'volume',\n",
    "            'MA_5', 'MA_10', 'MA_20', 'MA_50',\n",
    "            'EMA_12', 'EMA_26', 'MACD', 'MACD_signal', 'MACD_diff',\n",
    "            'RSI', 'BB_middle', 'BB_upper', 'BB_lower', 'BB_width', 'BB_position',\n",
    "            'momentum_1', 'momentum_5', 'momentum_10', 'momentum_20',\n",
    "            'volatility_5', 'volatility_20', 'volatility_ratio',\n",
    "            'volume_MA_5', 'volume_MA_20', 'volume_ratio',\n",
    "            'daily_range', 'daily_return', 'ATR', 'OBV',\n",
    "            'day_of_week', 'month', 'quarter', 'day_of_month'\n",
    "        ]\n",
    "        \n",
    "        sentiment_features = [\n",
    "            'reddit_avg_sentiment', 'reddit_post_count',\n",
    "            'news_avg_sentiment', 'news_article_count',\n",
    "            'combined_sentiment', 'total_mentions', 'has_sentiment',\n",
    "            'sentiment_momentum_3', 'sentiment_momentum_7',\n",
    "            'sentiment_MA_3', 'sentiment_MA_7',\n",
    "            'mentions_MA_3', 'mentions_trend',\n",
    "            'sentiment_price_alignment', 'sentiment_divergence'\n",
    "        ]\n",
    "        \n",
    "        # Check which features exist in dataframe\n",
    "        available_features = [col for col in price_features + sentiment_features if col in df.columns]\n",
    "        \n",
    "        X_list = []\n",
    "        y_list = []\n",
    "        dates_list = []\n",
    "        current_prices = []\n",
    "        \n",
    "        for i in range(lookback, len(df) - forecast_horizon + 1):\n",
    "            # Features: past 'lookback' days\n",
    "            X_window = df[available_features].iloc[i-lookback:i].values\n",
    "            \n",
    "            # Flatten the window into a single feature vector\n",
    "            X_flat = X_window.flatten()\n",
    "            \n",
    "            # Current price (for calculating % change)\n",
    "            current_price = df['close_price'].iloc[i-1]\n",
    "            \n",
    "            # Target price\n",
    "            future_price = df['close_price'].iloc[i + forecast_horizon - 1]\n",
    "            \n",
    "            if predict_change:\n",
    "                # Target: percentage price change\n",
    "                y_target = ((future_price - current_price) / current_price) * 100\n",
    "            else:\n",
    "                # Target: absolute price\n",
    "                y_target = future_price\n",
    "            \n",
    "            X_list.append(X_flat)\n",
    "            y_list.append(y_target)\n",
    "            dates_list.append(df.index[i + forecast_horizon - 1])\n",
    "            current_prices.append(current_price)\n",
    "        \n",
    "        X = np.array(X_list)\n",
    "        y = np.array(y_list)\n",
    "        \n",
    "        return X, y, dates_list, current_prices\n",
    "    \n",
    "    def prepare_training_data(self, symbol, lookback=60, test_size=0.2, predict_change=True):\n",
    "        \"\"\"\n",
    "        Complete pipeline with sentiment integration\n",
    "        \"\"\"\n",
    "        self.logger.info(f\"Preparing enhanced training data for {symbol}\")\n",
    "        \n",
    "        # Load price data\n",
    "        price_df = self.load_price_data(symbol)\n",
    "        \n",
    "        if price_df is None or price_df.empty:\n",
    "            self.logger.error(f\"No price data available for {symbol}\")\n",
    "            return None\n",
    "        \n",
    "        # Load sentiment data\n",
    "        sentiment_df = self.load_sentiment_data(symbol)\n",
    "        \n",
    "        # Merge price and sentiment\n",
    "        df = self.merge_price_sentiment(price_df, sentiment_df)\n",
    "        \n",
    "        # Calculate technical indicators\n",
    "        df = self.calculate_technical_indicators(df)\n",
    "        \n",
    "        # Calculate sentiment features\n",
    "        df = self.calculate_sentiment_features(df)\n",
    "        \n",
    "        # Create supervised dataset\n",
    "        result = self.create_supervised_dataset(df, lookback=lookback, \n",
    "                                                predict_change=predict_change)\n",
    "        \n",
    "        if result[0] is None:\n",
    "            self.logger.error(f\"Failed to create supervised dataset for {symbol}\")\n",
    "            return None\n",
    "        \n",
    "        X, y, dates, current_prices = result\n",
    "        \n",
    "        # Train-test split (time-based)\n",
    "        split_idx = int(len(X) * (1 - test_size))\n",
    "        \n",
    "        X_train = X[:split_idx]\n",
    "        X_test = X[split_idx:]\n",
    "        y_train = y[:split_idx]\n",
    "        y_test = y[split_idx:]\n",
    "        test_dates = dates[split_idx:]\n",
    "        test_current_prices = current_prices[split_idx:]\n",
    "        \n",
    "        # Scale features (fit only on training data)\n",
    "        scaler = StandardScaler()  # Changed from MinMaxScaler for better handling of outliers\n",
    "        X_train_scaled = scaler.fit_transform(X_train)\n",
    "        X_test_scaled = scaler.transform(X_test)\n",
    "        \n",
    "        sentiment_available = sentiment_df is not None and not sentiment_df.empty\n",
    "        \n",
    "        self.logger.info(f\"{symbol}: Training={len(X_train)}, Test={len(X_test)}, \"\n",
    "                        f\"Sentiment={'Yes' if sentiment_available else 'No (using neutral)'}\")\n",
    "        \n",
    "        return {\n",
    "            'symbol': symbol,\n",
    "            'X_train': X_train_scaled,\n",
    "            'X_test': X_test_scaled,\n",
    "            'y_train': y_train,\n",
    "            'y_test': y_test,\n",
    "            'scaler': scaler,\n",
    "            'test_dates': test_dates,\n",
    "            'test_current_prices': test_current_prices,\n",
    "            'feature_count': X_train.shape[1],\n",
    "            'predict_change': predict_change,\n",
    "            'has_sentiment': sentiment_available\n",
    "        }\n",
    "    \n",
    "    def get_all_symbols(self):\n",
    "        \"\"\"Get all stock symbols from database\"\"\"\n",
    "        conn = self.connect_db()\n",
    "        if not conn:\n",
    "            return []\n",
    "        \n",
    "        cursor = conn.cursor()\n",
    "        cursor.execute(\"SELECT symbol FROM stocks ORDER BY symbol\")\n",
    "        symbols = [row[0] for row in cursor.fetchall()]\n",
    "        cursor.close()\n",
    "        conn.close()\n",
    "        \n",
    "        return symbols"
   ]
  },
  {
   "cell_type": "code",
   "execution_count": 2,
   "id": "a3ac59c8",
   "metadata": {},
   "outputs": [
    {
     "name": "stdout",
     "output_type": "stream",
     "text": [
      "✓ Enhanced Feature Engineering initialized (with sentiment)\n"
     ]
    }
   ],
   "source": [
    "db_config = {\n",
    "    'host': '127.0.0.1',\n",
    "    'user': 'root',\n",
    "    'password': '',\n",
    "    'database': 'trading_system'\n",
    "}\n",
    "\n",
    "# Initialize enhanced feature engineering\n",
    "efe = EnhancedFeatureEngineering(db_config)\n",
    "print(\"✓ Enhanced Feature Engineering initialized (with sentiment)\")\n"
   ]
  },
  {
   "cell_type": "code",
   "execution_count": 3,
   "id": "bf5b1d0c",
   "metadata": {},
   "outputs": [
    {
     "name": "stderr",
     "output_type": "stream",
     "text": [
      "2025-10-07 21:14:23,033 - INFO - Preparing enhanced training data for AAPL\n",
      "2025-10-07 21:14:23,240 - INFO - package: mysql.connector.plugins\n"
     ]
    },
    {
     "name": "stdout",
     "output_type": "stream",
     "text": [
      "\n",
      "Testing enhanced feature engineering on AAPL...\n",
      "============================================================\n"
     ]
    },
    {
     "name": "stderr",
     "output_type": "stream",
     "text": [
      "2025-10-07 21:14:23,240 - INFO - plugin_name: caching_sha2_password\n",
      "2025-10-07 21:14:23,240 - INFO - AUTHENTICATION_PLUGIN_CLASS: MySQLCachingSHA2PasswordAuthPlugin\n",
      "2025-10-07 21:14:25,621 - INFO - AAPL: Training=314, Test=79, Sentiment=Yes\n"
     ]
    },
    {
     "name": "stdout",
     "output_type": "stream",
     "text": [
      "Symbol: AAPL\n",
      "Training samples: 314\n",
      "Test samples: 79\n",
      "Features per sample: 3180\n",
      "Sentiment data available: Yes\n",
      "Target variable: Price Change %\n",
      "Target range: -9.25% to 15.33%\n",
      "Test date range: 2025-06-12 00:00:00 to 2025-10-03 00:00:00\n",
      "\n",
      "✓ Enhanced feature engineering working correctly!\n"
     ]
    }
   ],
   "source": [
    "print(\"\\nTesting enhanced feature engineering on AAPL...\")\n",
    "print(\"=\"*60)\n",
    "\n",
    "# Prepare data with sentiment and % change target\n",
    "test_data = efe.prepare_training_data('AAPL', lookback=60, test_size=0.2, predict_change=True)\n",
    "\n",
    "if test_data:\n",
    "    print(f\"Symbol: {test_data['symbol']}\")\n",
    "    print(f\"Training samples: {len(test_data['X_train'])}\")\n",
    "    print(f\"Test samples: {len(test_data['X_test'])}\")\n",
    "    print(f\"Features per sample: {test_data['feature_count']}\")\n",
    "    print(f\"Sentiment data available: {'Yes' if test_data['has_sentiment'] else 'No'}\")\n",
    "    print(f\"Target variable: {'Price Change %' if test_data['predict_change'] else 'Absolute Price'}\")\n",
    "    print(f\"Target range: {test_data['y_train'].min():.2f}% to {test_data['y_train'].max():.2f}%\")\n",
    "    print(f\"Test date range: {test_data['test_dates'][0]} to {test_data['test_dates'][-1]}\")\n",
    "    print(\"\\n✓ Enhanced feature engineering working correctly!\")\n",
    "else:\n",
    "    print(\"✗ Feature engineering failed\")"
   ]
  },
  {
   "cell_type": "code",
   "execution_count": 4,
   "id": "36d89154",
   "metadata": {},
   "outputs": [
    {
     "name": "stderr",
     "output_type": "stream",
     "text": [
      "2025-10-07 21:14:28,600 - INFO - Preparing enhanced training data for AAPL\n"
     ]
    },
    {
     "name": "stdout",
     "output_type": "stream",
     "text": [
      "\n",
      "Preparing enhanced training data for all stocks...\n",
      "(Price + Sentiment + Time Features + % Change Target)\n",
      "This will take 3-4 minutes...\n",
      "\n",
      "Found 24 stocks to process\n",
      "[1/24] Processing AAPL..."
     ]
    },
    {
     "name": "stderr",
     "output_type": "stream",
     "text": [
      "2025-10-07 21:14:29,224 - INFO - AAPL: Training=314, Test=79, Sentiment=Yes\n",
      "2025-10-07 21:14:29,229 - INFO - Preparing enhanced training data for AMD\n"
     ]
    },
    {
     "name": "stdout",
     "output_type": "stream",
     "text": [
      " ✓ 314 samples [+SENTIMENT]\n",
      "[2/24] Processing AMD..."
     ]
    },
    {
     "name": "stderr",
     "output_type": "stream",
     "text": [
      "2025-10-07 21:14:29,890 - INFO - AMD: Training=314, Test=79, Sentiment=Yes\n",
      "2025-10-07 21:14:29,908 - INFO - Preparing enhanced training data for AMZN\n"
     ]
    },
    {
     "name": "stdout",
     "output_type": "stream",
     "text": [
      " ✓ 314 samples [+SENTIMENT]\n",
      "[3/24] Processing AMZN..."
     ]
    },
    {
     "name": "stderr",
     "output_type": "stream",
     "text": [
      "2025-10-07 21:14:30,569 - INFO - AMZN: Training=314, Test=79, Sentiment=Yes\n",
      "2025-10-07 21:14:30,580 - INFO - Preparing enhanced training data for BLK\n"
     ]
    },
    {
     "name": "stdout",
     "output_type": "stream",
     "text": [
      " ✓ 314 samples [+SENTIMENT]\n",
      "[4/24] Processing BLK..."
     ]
    },
    {
     "name": "stderr",
     "output_type": "stream",
     "text": [
      "2025-10-07 21:14:31,140 - INFO - BLK: Training=314, Test=79, Sentiment=Yes\n",
      "2025-10-07 21:14:31,140 - INFO - Preparing enhanced training data for CHN\n"
     ]
    },
    {
     "name": "stdout",
     "output_type": "stream",
     "text": [
      " ✓ 314 samples [+SENTIMENT]\n",
      "[5/24] Processing CHN..."
     ]
    },
    {
     "name": "stderr",
     "output_type": "stream",
     "text": [
      "2025-10-07 21:14:31,920 - INFO - CHN: Training=314, Test=79, Sentiment=Yes\n",
      "2025-10-07 21:14:31,921 - INFO - Preparing enhanced training data for ERO\n"
     ]
    },
    {
     "name": "stdout",
     "output_type": "stream",
     "text": [
      " ✓ 314 samples [+SENTIMENT]\n",
      "[6/24] Processing ERO..."
     ]
    },
    {
     "name": "stderr",
     "output_type": "stream",
     "text": [
      "2025-10-07 21:14:32,475 - INFO - ERO: Training=314, Test=79, Sentiment=Yes\n",
      "2025-10-07 21:14:32,479 - INFO - Preparing enhanced training data for FXP\n"
     ]
    },
    {
     "name": "stdout",
     "output_type": "stream",
     "text": [
      " ✓ 314 samples [+SENTIMENT]\n",
      "[7/24] Processing FXP..."
     ]
    },
    {
     "name": "stderr",
     "output_type": "stream",
     "text": [
      "2025-10-07 21:14:33,142 - INFO - FXP: Training=314, Test=79, Sentiment=Yes\n",
      "2025-10-07 21:14:33,144 - INFO - Preparing enhanced training data for GOOGL\n"
     ]
    },
    {
     "name": "stdout",
     "output_type": "stream",
     "text": [
      " ✓ 314 samples [+SENTIMENT]\n",
      "[8/24] Processing GOOGL..."
     ]
    },
    {
     "name": "stderr",
     "output_type": "stream",
     "text": [
      "2025-10-07 21:14:33,568 - INFO - GOOGL: Training=314, Test=79, Sentiment=Yes\n",
      "2025-10-07 21:14:33,570 - INFO - Preparing enhanced training data for GXC\n"
     ]
    },
    {
     "name": "stdout",
     "output_type": "stream",
     "text": [
      " ✓ 314 samples [+SENTIMENT]\n",
      "[9/24] Processing GXC..."
     ]
    },
    {
     "name": "stderr",
     "output_type": "stream",
     "text": [
      "2025-10-07 21:14:34,020 - INFO - GXC: Training=314, Test=79, Sentiment=Yes\n",
      "2025-10-07 21:14:34,020 - INFO - Preparing enhanced training data for JPM\n"
     ]
    },
    {
     "name": "stdout",
     "output_type": "stream",
     "text": [
      " ✓ 314 samples [+SENTIMENT]\n",
      "[10/24] Processing JPM..."
     ]
    },
    {
     "name": "stderr",
     "output_type": "stream",
     "text": [
      "2025-10-07 21:14:34,519 - INFO - JPM: Training=314, Test=79, Sentiment=Yes\n",
      "2025-10-07 21:14:34,531 - INFO - Preparing enhanced training data for KR\n"
     ]
    },
    {
     "name": "stdout",
     "output_type": "stream",
     "text": [
      " ✓ 314 samples [+SENTIMENT]\n",
      "[11/24] Processing KR..."
     ]
    },
    {
     "name": "stderr",
     "output_type": "stream",
     "text": [
      "2025-10-07 21:14:34,991 - INFO - KR: Training=314, Test=79, Sentiment=Yes\n",
      "2025-10-07 21:14:34,995 - INFO - Preparing enhanced training data for MDT\n"
     ]
    },
    {
     "name": "stdout",
     "output_type": "stream",
     "text": [
      " ✓ 314 samples [+SENTIMENT]\n",
      "[12/24] Processing MDT..."
     ]
    },
    {
     "name": "stderr",
     "output_type": "stream",
     "text": [
      "2025-10-07 21:14:35,449 - INFO - MDT: Training=314, Test=79, Sentiment=Yes\n",
      "2025-10-07 21:14:35,449 - INFO - Preparing enhanced training data for META\n"
     ]
    },
    {
     "name": "stdout",
     "output_type": "stream",
     "text": [
      " ✓ 314 samples [+SENTIMENT]\n",
      "[13/24] Processing META..."
     ]
    },
    {
     "name": "stderr",
     "output_type": "stream",
     "text": [
      "2025-10-07 21:14:36,104 - INFO - META: Training=314, Test=79, Sentiment=Yes\n",
      "2025-10-07 21:14:36,106 - INFO - Preparing enhanced training data for MSFT\n"
     ]
    },
    {
     "name": "stdout",
     "output_type": "stream",
     "text": [
      " ✓ 314 samples [+SENTIMENT]\n",
      "[14/24] Processing MSFT..."
     ]
    },
    {
     "name": "stderr",
     "output_type": "stream",
     "text": [
      "2025-10-07 21:14:37,545 - INFO - MSFT: Training=314, Test=79, Sentiment=Yes\n",
      "2025-10-07 21:14:37,550 - INFO - Preparing enhanced training data for NFLX\n"
     ]
    },
    {
     "name": "stdout",
     "output_type": "stream",
     "text": [
      " ✓ 314 samples [+SENTIMENT]\n",
      "[15/24] Processing NFLX..."
     ]
    },
    {
     "name": "stderr",
     "output_type": "stream",
     "text": [
      "2025-10-07 21:14:39,074 - INFO - NFLX: Training=314, Test=79, Sentiment=Yes\n",
      "2025-10-07 21:14:39,080 - INFO - Preparing enhanced training data for NVDA\n"
     ]
    },
    {
     "name": "stdout",
     "output_type": "stream",
     "text": [
      " ✓ 314 samples [+SENTIMENT]\n",
      "[16/24] Processing NVDA..."
     ]
    },
    {
     "name": "stderr",
     "output_type": "stream",
     "text": [
      "2025-10-07 21:14:40,615 - INFO - NVDA: Training=314, Test=79, Sentiment=Yes\n",
      "2025-10-07 21:14:40,622 - INFO - Preparing enhanced training data for OXY\n"
     ]
    },
    {
     "name": "stdout",
     "output_type": "stream",
     "text": [
      " ✓ 314 samples [+SENTIMENT]\n",
      "[17/24] Processing OXY..."
     ]
    },
    {
     "name": "stderr",
     "output_type": "stream",
     "text": [
      "2025-10-07 21:14:42,163 - INFO - OXY: Training=314, Test=79, Sentiment=Yes\n",
      "2025-10-07 21:14:42,170 - INFO - Preparing enhanced training data for PGJ\n"
     ]
    },
    {
     "name": "stdout",
     "output_type": "stream",
     "text": [
      " ✓ 314 samples [+SENTIMENT]\n",
      "[18/24] Processing PGJ..."
     ]
    },
    {
     "name": "stderr",
     "output_type": "stream",
     "text": [
      "2025-10-07 21:14:43,725 - INFO - PGJ: Training=314, Test=79, Sentiment=Yes\n",
      "2025-10-07 21:14:43,732 - INFO - Preparing enhanced training data for RSP\n"
     ]
    },
    {
     "name": "stdout",
     "output_type": "stream",
     "text": [
      " ✓ 314 samples [+SENTIMENT]\n",
      "[19/24] Processing RSP..."
     ]
    },
    {
     "name": "stderr",
     "output_type": "stream",
     "text": [
      "2025-10-07 21:14:45,145 - INFO - RSP: Training=314, Test=79, Sentiment=Yes\n",
      "2025-10-07 21:14:45,153 - INFO - Preparing enhanced training data for SPY\n"
     ]
    },
    {
     "name": "stdout",
     "output_type": "stream",
     "text": [
      " ✓ 314 samples [+SENTIMENT]\n",
      "[20/24] Processing SPY..."
     ]
    },
    {
     "name": "stderr",
     "output_type": "stream",
     "text": [
      "2025-10-07 21:14:46,780 - INFO - SPY: Training=314, Test=79, Sentiment=Yes\n",
      "2025-10-07 21:14:46,788 - INFO - Preparing enhanced training data for TSLA\n"
     ]
    },
    {
     "name": "stdout",
     "output_type": "stream",
     "text": [
      " ✓ 314 samples [+SENTIMENT]\n",
      "[21/24] Processing TSLA..."
     ]
    },
    {
     "name": "stderr",
     "output_type": "stream",
     "text": [
      "2025-10-07 21:14:48,291 - INFO - TSLA: Training=314, Test=79, Sentiment=Yes\n",
      "2025-10-07 21:14:48,297 - INFO - Preparing enhanced training data for VGK\n"
     ]
    },
    {
     "name": "stdout",
     "output_type": "stream",
     "text": [
      " ✓ 314 samples [+SENTIMENT]\n",
      "[22/24] Processing VGK..."
     ]
    },
    {
     "name": "stderr",
     "output_type": "stream",
     "text": [
      "2025-10-07 21:14:49,732 - INFO - VGK: Training=314, Test=79, Sentiment=Yes\n",
      "2025-10-07 21:14:49,738 - INFO - Preparing enhanced training data for XPP\n"
     ]
    },
    {
     "name": "stdout",
     "output_type": "stream",
     "text": [
      " ✓ 314 samples [+SENTIMENT]\n",
      "[23/24] Processing XPP..."
     ]
    },
    {
     "name": "stderr",
     "output_type": "stream",
     "text": [
      "2025-10-07 21:14:51,151 - INFO - XPP: Training=314, Test=79, Sentiment=Yes\n",
      "2025-10-07 21:14:51,157 - INFO - Preparing enhanced training data for YINN\n"
     ]
    },
    {
     "name": "stdout",
     "output_type": "stream",
     "text": [
      " ✓ 314 samples [+SENTIMENT]\n",
      "[24/24] Processing YINN..."
     ]
    },
    {
     "name": "stderr",
     "output_type": "stream",
     "text": [
      "2025-10-07 21:14:52,603 - INFO - YINN: Training=314, Test=79, Sentiment=Yes\n"
     ]
    },
    {
     "name": "stdout",
     "output_type": "stream",
     "text": [
      " ✓ 314 samples [+SENTIMENT]\n",
      "\n",
      "============================================================\n",
      "SUMMARY:\n",
      "Successfully processed: 24 stocks\n",
      "  - With sentiment data: 24 stocks\n",
      "  - Without sentiment (neutral): 0 stocks\n",
      "Failed: 0 stocks\n",
      "\n",
      "✓ All enhanced training data prepared!\n",
      "✓ Target: Price Change % (better for directional accuracy)\n",
      "✓ Features: Price + Sentiment + Time\n",
      "\n",
      "Ready for enhanced model training with hyperparameter tuning.\n"
     ]
    }
   ],
   "source": [
    "print(\"\\nPreparing enhanced training data for all stocks...\")\n",
    "print(\"(Price + Sentiment + Time Features + % Change Target)\")\n",
    "print(\"This will take 3-4 minutes...\\n\")\n",
    "\n",
    "symbols = efe.get_all_symbols()\n",
    "print(f\"Found {len(symbols)} stocks to process\")\n",
    "\n",
    "enhanced_stock_data = {}\n",
    "failed_stocks = []\n",
    "sentiment_counts = {'with_sentiment': 0, 'without_sentiment': 0}\n",
    "\n",
    "for idx, symbol in enumerate(symbols, 1):\n",
    "    print(f\"[{idx}/{len(symbols)}] Processing {symbol}...\", end='')\n",
    "    \n",
    "    try:\n",
    "        data = efe.prepare_training_data(symbol, lookback=60, test_size=0.2, predict_change=True)\n",
    "        \n",
    "        if data and len(data['X_train']) > 0:\n",
    "            enhanced_stock_data[symbol] = data\n",
    "            if data['has_sentiment']:\n",
    "                sentiment_counts['with_sentiment'] += 1\n",
    "                print(f\" ✓ {len(data['X_train'])} samples [+SENTIMENT]\")\n",
    "            else:\n",
    "                sentiment_counts['without_sentiment'] += 1\n",
    "                print(f\" ✓ {len(data['X_train'])} samples [neutral sentiment]\")\n",
    "        else:\n",
    "            failed_stocks.append(symbol)\n",
    "            print(f\" ✗ Failed\")\n",
    "    except Exception as e:\n",
    "        failed_stocks.append(symbol)\n",
    "        print(f\" ✗ Error: {str(e)[:50]}\")\n",
    "\n",
    "print(\"\\n\" + \"=\"*60)\n",
    "print(\"SUMMARY:\")\n",
    "print(f\"Successfully processed: {len(enhanced_stock_data)} stocks\")\n",
    "print(f\"  - With sentiment data: {sentiment_counts['with_sentiment']} stocks\")\n",
    "print(f\"  - Without sentiment (neutral): {sentiment_counts['without_sentiment']} stocks\")\n",
    "print(f\"Failed: {len(failed_stocks)} stocks\")\n",
    "if failed_stocks:\n",
    "    print(f\"Failed stocks: {', '.join(failed_stocks)}\")\n",
    "\n",
    "print(\"\\n✓ All enhanced training data prepared!\")\n",
    "print(\"✓ Target: Price Change % (better for directional accuracy)\")\n",
    "print(\"✓ Features: Price + Sentiment + Time\")\n",
    "print(\"\\nReady for enhanced model training with hyperparameter tuning.\")"
   ]
  },
  {
   "cell_type": "code",
   "execution_count": 7,
   "id": "9b8fd85d",
   "metadata": {},
   "outputs": [
    {
     "name": "stdout",
     "output_type": "stream",
     "text": [
      "✓ Saved data for 24 stocks to enhanced_stock_data.pkl\n"
     ]
    }
   ],
   "source": [
    "# Save prepared data\n",
    "import pickle\n",
    "\n",
    "with open('enhanced_stock_data.pkl', 'wb') as f:\n",
    "    pickle.dump(enhanced_stock_data, f)\n",
    "\n",
    "print(f\"✓ Saved data for {len(enhanced_stock_data)} stocks to enhanced_stock_data.pkl\")"
   ]
  }
 ],
 "metadata": {
  "kernelspec": {
   "display_name": "Python 3",
   "language": "python",
   "name": "python3"
  },
  "language_info": {
   "codemirror_mode": {
    "name": "ipython",
    "version": 3
   },
   "file_extension": ".py",
   "mimetype": "text/x-python",
   "name": "python",
   "nbconvert_exporter": "python",
   "pygments_lexer": "ipython3",
   "version": "3.11.9"
  }
 },
 "nbformat": 4,
 "nbformat_minor": 5
}
